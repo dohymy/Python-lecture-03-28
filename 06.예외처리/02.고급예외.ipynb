{
 "cells": [
  {
   "attachments": {},
   "cell_type": "markdown",
   "metadata": {},
   "source": [
    "### 6-2. 고급 예외"
   ]
  },
  {
   "cell_type": "code",
   "execution_count": 1,
   "metadata": {},
   "outputs": [
    {
     "name": "stdout",
     "output_type": "stream",
     "text": [
      "<class 'IndexError'> list index out of range\n"
     ]
    }
   ],
   "source": [
    "a= [1,2,3]\n",
    "try:\n",
    "    print(a[3])\n",
    "except Exception as e:\n",
    "    print(type(e),e)"
   ]
  },
  {
   "cell_type": "code",
   "execution_count": null,
   "metadata": {},
   "outputs": [],
   "source": [
    "# Exception은 에러의 가장 높은 단위\n",
    "# Exception이 앞에 있으면 개별 에러가 작동하지 않는다.\n",
    "try:\n",
    "    x = int(input())\n",
    "    y = 100/x\n",
    "    print(y, a[x])\n",
    "except Exception:\n",
    "    print('예외발생')\n",
    "except ValueError:\n",
    "    print('입력값이 틀렸습니다.')\n",
    "except IndexError:\n",
    "    print('인덱스 에러 발생')\n",
    "except ZeroDivisionError:\n",
    "    print('0으로 나눌 수 없습니다.')"
   ]
  },
  {
   "cell_type": "code",
   "execution_count": null,
   "metadata": {},
   "outputs": [],
   "source": [
    "# 제일 뒤로 가면 사용 가능\n",
    "try:\n",
    "    x = int(input())\n",
    "    y = 100/x\n",
    "    print(y, a[x])\n",
    "except ValueError:\n",
    "    print('입력값이 틀렸습니다.')\n",
    "except IndexError:\n",
    "    print('인덱스 에러 발생')\n",
    "except ZeroDivisionError:\n",
    "    print('0으로 나눌 수 없습니다.')\n",
    "except Exception:\n",
    "    print('예외발생')"
   ]
  },
  {
   "attachments": {},
   "cell_type": "markdown",
   "metadata": {},
   "source": [
    "- 예외 발생(raise)"
   ]
  },
  {
   "cell_type": "code",
   "execution_count": 3,
   "metadata": {},
   "outputs": [
    {
     "name": "stdout",
     "output_type": "stream",
     "text": [
      "200 375 425\n"
     ]
    }
   ],
   "source": [
    "# break를 통해 에러를 탈출함\n",
    "# 단 안쪽의 반복문만 탈출함\n",
    "for a in range(1,333):\n",
    "    for b in range(a+1, 500):\n",
    "        c = 1000 - a - b\n",
    "        if a*a + b*b == c*c:\n",
    "            print(a,b,c)\n",
    "            break"
   ]
  },
  {
   "cell_type": "code",
   "execution_count": 6,
   "metadata": {},
   "outputs": [
    {
     "name": "stdout",
     "output_type": "stream",
     "text": [
      "200 375 425\n"
     ]
    }
   ],
   "source": [
    "# break를 빼서 의도적으로 에러를 발생시킴\n",
    "# raise를 통해 반복문을 탈출\n",
    "# 의도적으로 에러를 발생시키고 탈출하는 방법\n",
    "\n",
    "try:\n",
    "    for a in range(1,333):\n",
    "        for b in range(a+1, 500):\n",
    "            c = 1000 - a - b\n",
    "            if a*a + b*b == c*c:\n",
    "                print(a,b,c)\n",
    "                raise Exception\n",
    "except :\n",
    "    pass"
   ]
  },
  {
   "cell_type": "code",
   "execution_count": null,
   "metadata": {},
   "outputs": [],
   "source": []
  }
 ],
 "metadata": {
  "kernelspec": {
   "display_name": "base",
   "language": "python",
   "name": "python3"
  },
  "language_info": {
   "codemirror_mode": {
    "name": "ipython",
    "version": 3
   },
   "file_extension": ".py",
   "mimetype": "text/x-python",
   "name": "python",
   "nbconvert_exporter": "python",
   "pygments_lexer": "ipython3",
   "version": "3.10.10"
  },
  "orig_nbformat": 4
 },
 "nbformat": 4,
 "nbformat_minor": 2
}
