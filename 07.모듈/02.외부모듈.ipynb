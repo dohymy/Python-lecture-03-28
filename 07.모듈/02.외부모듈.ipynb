{
 "cells": [
  {
   "attachments": {},
   "cell_type": "markdown",
   "metadata": {},
   "source": [
    "### 7-2. 외부모듈"
   ]
  },
  {
   "attachments": {},
   "cell_type": "markdown",
   "metadata": {},
   "source": [
    "- pip install (모듈명) : 전역 설치\n",
    "    - 대부분 설치 가능\n",
    "- conda install (옵션) (모듈명) :가상환경별 설치\n",
    "    - 설치 불가능한 모듈이 있음(소량)"
   ]
  },
  {
   "cell_type": "code",
   "execution_count": null,
   "metadata": {},
   "outputs": [],
   "source": [
    "from flask import flask\n"
   ]
  }
 ],
 "metadata": {
  "language_info": {
   "name": "python"
  },
  "orig_nbformat": 4
 },
 "nbformat": 4,
 "nbformat_minor": 2
}
