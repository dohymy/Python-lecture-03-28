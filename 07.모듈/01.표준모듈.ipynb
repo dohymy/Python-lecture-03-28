{
 "cells": [
  {
   "attachments": {},
   "cell_type": "markdown",
   "metadata": {},
   "source": [
    "### 7-1. 표준 모듈"
   ]
  },
  {
   "attachments": {},
   "cell_type": "markdown",
   "metadata": {},
   "source": [
    "- math"
   ]
  },
  {
   "cell_type": "code",
   "execution_count": 2,
   "metadata": {},
   "outputs": [
    {
     "data": {
      "text/plain": [
       "3.141592653589793"
      ]
     },
     "execution_count": 2,
     "metadata": {},
     "output_type": "execute_result"
    }
   ],
   "source": [
    "import math\n",
    "math.pi"
   ]
  },
  {
   "cell_type": "code",
   "execution_count": 3,
   "metadata": {},
   "outputs": [
    {
     "data": {
      "text/plain": [
       "(1.0, 6.123233995736766e-17)"
      ]
     },
     "execution_count": 3,
     "metadata": {},
     "output_type": "execute_result"
    }
   ],
   "source": [
    "math.sin(math.pi/2), math.cos(math.pi/2)"
   ]
  },
  {
   "cell_type": "code",
   "execution_count": 4,
   "metadata": {},
   "outputs": [
    {
     "data": {
      "text/plain": [
       "(1.0, 6.123233995736766e-17)"
      ]
     },
     "execution_count": 4,
     "metadata": {},
     "output_type": "execute_result"
    }
   ],
   "source": [
    "from math import sin, cos\n",
    "sin(math.pi/2), cos(math.pi/2)"
   ]
  },
  {
   "cell_type": "code",
   "execution_count": 5,
   "metadata": {},
   "outputs": [
    {
     "data": {
      "text/plain": [
       "(1.0, 6.123233995736766e-17)"
      ]
     },
     "execution_count": 5,
     "metadata": {},
     "output_type": "execute_result"
    }
   ],
   "source": [
    "import math as m  # as : alias 약칭\n",
    "m.sin(m.pi/2), m.cos(m.pi/2)"
   ]
  },
  {
   "cell_type": "code",
   "execution_count": 6,
   "metadata": {},
   "outputs": [
    {
     "data": {
      "text/plain": [
       "(0.06638649255033913, 2)"
      ]
     },
     "execution_count": 6,
     "metadata": {},
     "output_type": "execute_result"
    }
   ],
   "source": [
    "import random as rd\n",
    "rd.random(), rd.randint(1,6)"
   ]
  },
  {
   "cell_type": "code",
   "execution_count": 7,
   "metadata": {},
   "outputs": [],
   "source": [
    "import os"
   ]
  },
  {
   "cell_type": "code",
   "execution_count": 9,
   "metadata": {},
   "outputs": [
    {
     "data": {
      "text/plain": [
       "['01.sys.py', '01.표준모듈.ipynb']"
      ]
     },
     "execution_count": 9,
     "metadata": {},
     "output_type": "execute_result"
    }
   ],
   "source": [
    "os.listdir()"
   ]
  },
  {
   "cell_type": "code",
   "execution_count": 10,
   "metadata": {},
   "outputs": [
    {
     "data": {
      "text/plain": [
       "['01.sys.py', '01.표준모듈.ipynb', 'test']"
      ]
     },
     "execution_count": 10,
     "metadata": {},
     "output_type": "execute_result"
    }
   ],
   "source": [
    "# 폴더 생성\n",
    "os.mkdir('test')\n",
    "os.listdir()"
   ]
  },
  {
   "cell_type": "code",
   "execution_count": 11,
   "metadata": {},
   "outputs": [
    {
     "data": {
      "text/plain": [
       "['01.sys.py', '01.표준모듈.ipynb']"
      ]
     },
     "execution_count": 11,
     "metadata": {},
     "output_type": "execute_result"
    }
   ],
   "source": [
    "# 폴더 제거\n",
    "os.rmdir('test') # 디렉토리가 비어있어야만 삭제 가능\n",
    "os.listdir()"
   ]
  },
  {
   "cell_type": "code",
   "execution_count": 12,
   "metadata": {},
   "outputs": [],
   "source": [
    "# 디렉토리가 없으면 새로 만들어 줌\n",
    "dir_name = 'test'\n",
    "if not os.path.exists(dir_name):\n",
    "    os.mkdir(dir_name)"
   ]
  },
  {
   "cell_type": "code",
   "execution_count": 13,
   "metadata": {},
   "outputs": [
    {
     "data": {
      "text/plain": [
       "['a.txt']"
      ]
     },
     "execution_count": 13,
     "metadata": {},
     "output_type": "execute_result"
    }
   ],
   "source": [
    "os.listdir(dir_name)"
   ]
  },
  {
   "cell_type": "code",
   "execution_count": 14,
   "metadata": {},
   "outputs": [
    {
     "data": {
      "text/plain": [
       "[]"
      ]
     },
     "execution_count": 14,
     "metadata": {},
     "output_type": "execute_result"
    }
   ],
   "source": [
    "os.remove(dir_name + '/' + 'a.txt')\n",
    "os.listdir(dir_name)"
   ]
  },
  {
   "cell_type": "code",
   "execution_count": 15,
   "metadata": {},
   "outputs": [
    {
     "data": {
      "text/plain": [
       "['01.sys.py', '01.표준모듈.ipynb']"
      ]
     },
     "execution_count": 15,
     "metadata": {},
     "output_type": "execute_result"
    }
   ],
   "source": [
    "os.rmdir(dir_name)\n",
    "os.listdir()"
   ]
  },
  {
   "cell_type": "code",
   "execution_count": 17,
   "metadata": {},
   "outputs": [
    {
     "name": "stdout",
     "output_type": "stream",
     "text": [
      "c:\\Users\\YONSAI\\anaconda3\n",
      "C:\\Users\\YONSAI\\anaconda3\n",
      "C:\\Users\\YONSAI\\anaconda3\\Library\\mingw-w64\\bin\n",
      "C:\\Users\\YONSAI\\anaconda3\\Library\\usr\\bin\n",
      "C:\\Users\\YONSAI\\anaconda3\\Library\\bin\n",
      "C:\\Users\\YONSAI\\anaconda3\\Scripts\n",
      "C:\\Users\\YONSAI\\anaconda3\\bin\n",
      "C:\\Users\\YONSAI\\anaconda3\\condabin\n",
      "C:\\Program Files (x86)\\Common Files\\Intel\\Shared Libraries\\redist\\intel64\\compiler\n",
      "C:\\Windows\\system32\n",
      "C:\\Windows\n",
      "C:\\Windows\\System32\\Wbem\n",
      "C:\\Windows\\System32\\WindowsPowerShell\\v1.0\n",
      "C:\\Windows\\System32\\OpenSSH\n",
      "C:\\Program Files (x86)\\Microsoft SQL Server\\110\\Tools\\Binn\n",
      "C:\\Program Files\\Microsoft SQL Server\\110\\Tools\\Binn\n",
      "C:\\Program Files\\Microsoft SQL Server\\110\\DTS\\Binn\n",
      "C:\\Program Files (x86)\\Microsoft SQL Server\\100\\Tools\\Binn\n",
      "C:\\Program Files\\Microsoft SQL Server\\100\\Tools\\Binn\n",
      "C:\\Program Files\\Microsoft SQL Server\\100\\DTS\\Binn\n",
      "C:\\Program Files\\nodejs\n",
      "C:\\Program Files\\Git\\cmd\n",
      "C:\\Users\\YONSAI\\AppData\\Local\\Microsoft\\WindowsApps\n",
      ".\n",
      "C:\\Users\\YONSAI\\AppData\\Local\\Programs\\Microsoft VS Code\\bin\n",
      "C:\\Users\\YONSAI\\AppData\\Roaming\\npm\n"
     ]
    }
   ],
   "source": [
    "paths = os.environ['PATH']\n",
    "for path in paths.split(';'):\n",
    "    print(path)"
   ]
  },
  {
   "attachments": {},
   "cell_type": "markdown",
   "metadata": {},
   "source": [
    "- datetime 모듈"
   ]
  },
  {
   "cell_type": "code",
   "execution_count": 19,
   "metadata": {},
   "outputs": [
    {
     "name": "stdout",
     "output_type": "stream",
     "text": [
      "2023-04-06 10:50:13\n"
     ]
    }
   ],
   "source": [
    "import datetime as dt\n",
    "now = dt.datetime.now()\n",
    "print(f'{now.year}-{now.month:02d}-{now.day:02d} {now.hour:02d}:{now.minute:02d}:{now.second:02d}')"
   ]
  },
  {
   "cell_type": "code",
   "execution_count": 21,
   "metadata": {},
   "outputs": [
    {
     "name": "stdout",
     "output_type": "stream",
     "text": [
      "2023-04-06 11:02:28\n"
     ]
    }
   ],
   "source": [
    "# 간단하게 현재시간 구하기\n",
    "now = dt.datetime.now()\n",
    "print(now.strftime('%Y-%m-%d %H:%M:%S'))"
   ]
  },
  {
   "cell_type": "code",
   "execution_count": 22,
   "metadata": {},
   "outputs": [
    {
     "data": {
      "text/plain": [
       "3"
      ]
     },
     "execution_count": 22,
     "metadata": {},
     "output_type": "execute_result"
    }
   ],
   "source": [
    "# 요일 구하기\n",
    "names = '월 화 수 목 금 토 일'.split()\n",
    "now.weekday()"
   ]
  },
  {
   "cell_type": "code",
   "execution_count": 31,
   "metadata": {},
   "outputs": [
    {
     "name": "stdout",
     "output_type": "stream",
     "text": [
      "2023-04-06(목)11:12:00\n"
     ]
    }
   ],
   "source": [
    "now = dt.datetime.now()\n",
    "print(now.strftime('%Y-%m-%d') + f'({names[now.weekday()]})' + now.strftime('%H:%M:%S'))"
   ]
  },
  {
   "cell_type": "code",
   "execution_count": 33,
   "metadata": {},
   "outputs": [
    {
     "name": "stdout",
     "output_type": "stream",
     "text": [
      "2023-07-15(목)11:12:00\n"
     ]
    }
   ],
   "source": [
    "# 현재로부터 100일 후\n",
    "after = now + dt.timedelta(days=100)\n",
    "print(after.strftime('%Y-%m-%d') + f'({names[now.weekday()]})' + now.strftime('%H:%M:%S'))"
   ]
  },
  {
   "cell_type": "code",
   "execution_count": 35,
   "metadata": {},
   "outputs": [
    {
     "name": "stdout",
     "output_type": "stream",
     "text": [
      "2023-05-01(월)21:32:10\n"
     ]
    }
   ],
   "source": [
    "after = now + dt.timedelta(weeks=3, days=4, hours=10, minutes=20, seconds=10)\n",
    "print(after.strftime('%Y-%m-%d') + f'({names[after.weekday()]})' + after.strftime('%H:%M:%S'))"
   ]
  },
  {
   "attachments": {},
   "cell_type": "markdown",
   "metadata": {},
   "source": [
    "- time 모듈"
   ]
  },
  {
   "cell_type": "code",
   "execution_count": 36,
   "metadata": {},
   "outputs": [
    {
     "name": "stdout",
     "output_type": "stream",
     "text": [
      "지금부터 5초간 정지합니다.\n",
      "5초가 경과했습니다.\n"
     ]
    }
   ],
   "source": [
    "# 일정 시간 코드 진행을 정지\n",
    "import time\n",
    "\n",
    "print('지금부터 5초간 정지합니다.')\n",
    "time.sleep(5)\n",
    "print('5초가 경과했습니다.')"
   ]
  },
  {
   "attachments": {},
   "cell_type": "markdown",
   "metadata": {},
   "source": [
    "- urllib 모듈"
   ]
  },
  {
   "cell_type": "code",
   "execution_count": 37,
   "metadata": {},
   "outputs": [
    {
     "name": "stdout",
     "output_type": "stream",
     "text": [
      "b'<!DOCTYPE html>\\r\\n<html lang=\"ko\">\\r\\n<head>\\r\\n<!--[if lte IE 8]>\\r\\n<script>\\r\\n  location.replace(\\'/support/explorer_upgrade.html\\');\\r\\n</script>\\r\\n<![endif]-->\\r\\n<meta charset=\"utf-8\"/>\\r\\n<title>\\xed\\x95\\x9c\\xeb\\xb9\\x9b\\xec\\x95\\x84\\xec\\xb9\\xb4\\xeb\\x8d\\xb0\\xeb\\xaf\\xb8</title>\\r\\n<link rel=\"shortcut icon\" href=\"https://www.hanbit.co.kr/images/common/hanbit.ico\"> \\r\\n<meta http-equiv=\"X-UA-Compatible\" content=\"IE=Edge\" />\\r\\n<meta property=\"og:type\" content=\"website\"/>\\r\\n<meta property=\"og:title\" content=\"\\xed\\x95\\x9c\\xeb\\xb9\\x9b\\xec\\x95\\x84\\xec\\xb9\\xb4\\xeb\\x8d\\xb0\\xeb\\xaf\\xb8\"/>\\r\\n<meta property=\"og:description\" content=\"\\xec\\x9d\\xb4\\xea\\xb3\\xb5\\xea\\xb3\\x84 \\xeb\\xb6\\x84\\xec\\x95\\xbc \\xec\\xa2\\x85\\xed\\x95\\xa9 \\xea\\xb5\\x90\\xec\\x9e\\xac \\xec\\xb6\\x9c\\xed\\x8c\\x90\\xec\\x82\\xac\\xeb\\xa1\\x9c, \\xeb\\x8f\\x85\\xec\\x9e\\x90\\xec\\x9d\\x98 \\xec\\x8b\\xa0\\xeb\\xa2\\xb0\\xeb\\xa5\\xbc \\xec\\xb5\\x9c\\xec\\x9a\\xb0\\xec\\x84\\xa0 \\xec\\x9b\\x90\\xec\\xb9\\x99\\xec\\x9c\\xbc\\xeb\\xa1\\x9c \\xec\\x82\\xbc\\xea\\xb3\\xa0 \\xea\\xb0\\x80\\xeb\\xa5\\xb4\\xec\\xb9\\x98\\xeb\\x8a\\x94 \\xea\\xb5\\x90\\xec\\x88\\x98\\xeb\\x8b\\x98\\xeb\\x93\\xa4\\xea\\xb3\\xbc \\xeb\\xb0\\xb0\\xec\\x9a\\xb0\\xeb\\x8a\\x94 \\xed\\x95\\x99\\xec\\x83\\x9d\\xeb\\x93\\xa4\\xec\\x97\\x90\\xea\\xb2\\x8c \\xeb\\x93\\xa0\\xeb\\x93\\xa0\\xed\\x95\\x9c \\xec\\xa1\\xb0\\xeb\\xa0\\xa5\\xec\\x9e\\x90\\xea\\xb0\\x80 \\xeb\\x90\\x98\\xeb\\x8f\\x84\\xeb\\xa1\\x9d \\xeb\\x85\\xb8\\xeb\\xa0\\xa5\\xed\\x95\\x98\\xea\\xb3\\xa0 \\xec\\x9e\\x88\\xec\\x8a\\xb5\\xeb\\x8b\\x88\\xeb\\x8b\\xa4.\"/>\\r\\n<meta property=\"og:image\" content=\"https://www.hanbit.co.kr/images/hanbitpubnet_logo.jpg\" />\\r\\n<meta property=\"og:url\" content=\"https://www.hanbit.co.kr/academy/books/new_book_list.html\"/>\\r\\n<link rel=\"canonical\" href=\"https://www.hanbit.co.kr/academy/books/new_book_list.html\" />\\r\\n<meta'\n"
     ]
    }
   ],
   "source": [
    "from urllib import request\n",
    "\n",
    "target = request.urlopen('https://www.hanbit.co.kr/academy/books/new_book_list.html')\n",
    "output = target.read()\n",
    "print(output[:1000])"
   ]
  },
  {
   "cell_type": "code",
   "execution_count": 38,
   "metadata": {},
   "outputs": [
    {
     "name": "stdout",
     "output_type": "stream",
     "text": [
      "<!DOCTYPE html>\n",
      "<html lang=\"ko\">\n",
      "<head>\n",
      "<!--[if lte IE 8]>\n",
      "<script>\n",
      "  location.replace('/support/explorer_upgrade.html');\n",
      "</script>\n",
      "<![endif]-->\n",
      "<meta charset=\"utf-8\"/>\n",
      "<title>한빛아카데미</title>\n",
      "<link rel=\"shortcut icon\" href=\"https://www.hanbit.co.kr/images/common/hanbit.ico\"> \n",
      "<meta http-equiv=\"X-UA-Compatible\" content=\"IE=Edge\" />\n",
      "<meta property=\"og:type\" content=\"website\"/>\n",
      "<meta property=\"og:title\" content=\"한빛아카데미\"/>\n",
      "<meta property=\"og:description\" content=\"이공계 분야 종합 교재 출판사로, 독자의 신뢰를 최우선 원칙으로 삼고 가르치는 교수님들과 배우는 학생들에게 든든한 조력자가 되도록 노력하고 있습니다.\"/>\n",
      "<meta property=\"og:image\" content=\"https://www.hanbit.co.kr/images/hanbitpubnet_logo.jpg\" />\n",
      "<meta property=\"og:url\" content=\"https://www.hanbit.co.kr/academy/books/new_book_list.html\"/>\n",
      "<link rel=\"canonical\" href=\"https://www.hanbit.co.kr/academy/books/new_book_list.html\" />\n",
      "<meta name=\"keywords\" content=\"한빛아카데미,책,전자책,ebook,대학교재,교재출판사,강의교안,교수회원,자격증,정보교과서\" />\n",
      "<meta name=\"description\" content=\"이공계 분야 종합 교재 출판사로, 독자의 신뢰를 최우선 원칙으로\n"
     ]
    }
   ],
   "source": [
    "# urllib보다 requests가 편리하다\n",
    "import requests\n",
    "req = requests.get('https://www.hanbit.co.kr/academy/books/new_book_list.html')\n",
    "print(req.text[:1000])"
   ]
  },
  {
   "cell_type": "code",
   "execution_count": null,
   "metadata": {},
   "outputs": [],
   "source": []
  }
 ],
 "metadata": {
  "kernelspec": {
   "display_name": "base",
   "language": "python",
   "name": "python3"
  },
  "language_info": {
   "codemirror_mode": {
    "name": "ipython",
    "version": 3
   },
   "file_extension": ".py",
   "mimetype": "text/x-python",
   "name": "python",
   "nbconvert_exporter": "python",
   "pygments_lexer": "ipython3",
   "version": "3.10.10"
  },
  "orig_nbformat": 4
 },
 "nbformat": 4,
 "nbformat_minor": 2
}
