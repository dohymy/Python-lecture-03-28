{
 "cells": [
  {
   "attachments": {},
   "cell_type": "markdown",
   "metadata": {},
   "source": [
    "##### 4-2. 딕셔너리와 반복문"
   ]
  },
  {
   "attachments": {},
   "cell_type": "markdown",
   "metadata": {},
   "source": [
    "- 빈 딕셔너리 생성"
   ]
  },
  {
   "cell_type": "code",
   "execution_count": 1,
   "metadata": {},
   "outputs": [],
   "source": [
    "a = {}\n",
    "person = dict()"
   ]
  },
  {
   "attachments": {},
   "cell_type": "markdown",
   "metadata": {},
   "source": [
    "- 딕셔너리에 키 밸류 추가"
   ]
  },
  {
   "cell_type": "code",
   "execution_count": 2,
   "metadata": {},
   "outputs": [
    {
     "data": {
      "text/plain": [
       "{'name': 'Maria', 'age': 24, 'height': 165}"
      ]
     },
     "execution_count": 2,
     "metadata": {},
     "output_type": "execute_result"
    }
   ],
   "source": [
    "person['name'] = 'Maria'\n",
    "person['age'] = 24\n",
    "person['height'] = 165\n",
    "person\n"
   ]
  },
  {
   "attachments": {},
   "cell_type": "markdown",
   "metadata": {},
   "source": [
    "- 반복문을 사용하기 위한 메소드"
   ]
  },
  {
   "cell_type": "code",
   "execution_count": 3,
   "metadata": {},
   "outputs": [
    {
     "data": {
      "text/plain": [
       "dict_keys(['name', 'age', 'height'])"
      ]
     },
     "execution_count": 3,
     "metadata": {},
     "output_type": "execute_result"
    }
   ],
   "source": [
    "# 키를 리스트의 형태로 출력\n",
    "person.keys()"
   ]
  },
  {
   "cell_type": "code",
   "execution_count": 5,
   "metadata": {},
   "outputs": [
    {
     "name": "stdout",
     "output_type": "stream",
     "text": [
      "name Maria\n",
      "age 24\n",
      "height 165\n"
     ]
    }
   ],
   "source": [
    "for key in person.keys():\n",
    "    print(key, person[key])"
   ]
  },
  {
   "cell_type": "code",
   "execution_count": 6,
   "metadata": {},
   "outputs": [
    {
     "name": "stdout",
     "output_type": "stream",
     "text": [
      "name Maria\n",
      "age 24\n",
      "height 165\n"
     ]
    }
   ],
   "source": [
    "# keys 메소드를 안 써도 무방\n",
    "for key in person:\n",
    "    print(key, person[key])"
   ]
  },
  {
   "cell_type": "code",
   "execution_count": 7,
   "metadata": {},
   "outputs": [
    {
     "data": {
      "text/plain": [
       "dict_values(['Maria', 24, 165])"
      ]
     },
     "execution_count": 7,
     "metadata": {},
     "output_type": "execute_result"
    }
   ],
   "source": [
    "# 밸류만 얻을 수 있지만 잘 안 쓰는 방법\n",
    "person.values()"
   ]
  },
  {
   "cell_type": "code",
   "execution_count": 8,
   "metadata": {},
   "outputs": [
    {
     "data": {
      "text/plain": [
       "dict_items([('name', 'Maria'), ('age', 24), ('height', 165)])"
      ]
     },
     "execution_count": 8,
     "metadata": {},
     "output_type": "execute_result"
    }
   ],
   "source": [
    "# 키와 밸류를 튜플 형태로 출력(자주 쓰는 형태)\n",
    "person.items()"
   ]
  },
  {
   "cell_type": "code",
   "execution_count": 9,
   "metadata": {},
   "outputs": [
    {
     "name": "stdout",
     "output_type": "stream",
     "text": [
      "name Maria\n",
      "age 24\n",
      "height 165\n"
     ]
    }
   ],
   "source": [
    "for key, value in person.items():\n",
    "    print(key, value)"
   ]
  },
  {
   "attachments": {},
   "cell_type": "markdown",
   "metadata": {},
   "source": [
    "- 복잡한 딕셔너리의 반복문"
   ]
  },
  {
   "cell_type": "code",
   "execution_count": 11,
   "metadata": {},
   "outputs": [],
   "source": [
    "terrestrial_planet = {\n",
    "    'Mercury': {\n",
    "        'mean_radius': 2439.7,\n",
    "        'mass': 3.3022E+23,\n",
    "        'orbital_period': 87.969\n",
    "    },\n",
    "    'Venus': {\n",
    "        'mean_radius': 6051.8,\n",
    "        'mass': 4.8676E+24,\n",
    "        'orbital_period': 224.70069,\n",
    "    },\n",
    "    'Earth': {\n",
    "        'mean_radius': 6371.0,\n",
    "        'mass': 5.97219E+24,\n",
    "        'orbital_period': 365.25641,\n",
    "    },\n",
    "    'Mars': {\n",
    "        'mean_radius': 3389.5,\n",
    "        'mass': 6.4185E+23,\n",
    "        'orbital_period': 686.9600,\n",
    "    }\n",
    "}"
   ]
  },
  {
   "cell_type": "code",
   "execution_count": 15,
   "metadata": {},
   "outputs": [
    {
     "name": "stdout",
     "output_type": "stream",
     "text": [
      "Mercury 87.969\n",
      "Venus 224.70069\n",
      "Earth 365.25641\n",
      "Mars 686.96\n"
     ]
    }
   ],
   "source": [
    "# 행성의 이름과 공전주기를 출력\n",
    "for key in terrestrial_planet:\n",
    "    planet = terrestrial_planet[key]\n",
    "    print(key, planet['orbital_period'])\n",
    "    "
   ]
  },
  {
   "cell_type": "code",
   "execution_count": 17,
   "metadata": {},
   "outputs": [
    {
     "name": "stdout",
     "output_type": "stream",
     "text": [
      "Mercury 87.969\n",
      "Venus 224.70069\n",
      "Earth 365.25641\n",
      "Mars 686.96\n"
     ]
    }
   ],
   "source": [
    "for key, planet in terrestrial_planet.items():\n",
    "    print(key, planet['orbital_period'])"
   ]
  },
  {
   "attachments": {},
   "cell_type": "markdown",
   "metadata": {},
   "source": [
    "- 실전사례 : 행안부 도로명 주소 api"
   ]
  },
  {
   "cell_type": "code",
   "execution_count": 26,
   "metadata": {},
   "outputs": [],
   "source": [
    "result = {'results': {'common':\n",
    "    {'errorMessage': '정상',\n",
    "   'countPerPage': '10',\n",
    "   'totalCount': '1',\n",
    "   'errorCode': '0',\n",
    "   'currentPage': '1'},\n",
    "  'juso': [{'detBdNmList': '',\n",
    "    'engAddr': '768, Bijarim-ro, Jocheon-eup, Jeju-si, Jeju-do',\n",
    "    'rn': '비자림로',\n",
    "    'emdNm': '조천읍',\n",
    "    'zipNo': '63346',\n",
    "    'roadAddrPart2': '',\n",
    "    'emdNo': '02',\n",
    "    'sggNm': '제주시',\n",
    "    'jibunAddr': '제주특별자치도 제주시 조천읍 교래리 342-2 산굼부리',\n",
    "    'siNm': '제주특별자치도',\n",
    "    'roadAddrPart1': '제주특별자치도 제주시 조천읍 비자림로 768',\n",
    "    'bdNm': '산굼부리',\n",
    "    'admCd': '5011025929',\n",
    "    'udrtYn': '0',\n",
    "    'lnbrMnnm': '342',\n",
    "    'roadAddr': '제주특별자치도 제주시 조천읍 비자림로 768',\n",
    "    'lnbrSlno': '2',\n",
    "    'buldMnnm': '768',\n",
    "    'bdKdcd': '0',\n",
    "    'liNm': '교래리',\n",
    "    'rnMgtSn': '501103349079',\n",
    "    'mtYn': '0',\n",
    "    'bdMgtSn': '5011025929003420005071420',\n",
    "    'buldSlno': '0'}]}}"
   ]
  },
  {
   "cell_type": "code",
   "execution_count": 34,
   "metadata": {},
   "outputs": [
    {
     "data": {
      "text/plain": [
       "dict_keys(['results'])"
      ]
     },
     "execution_count": 34,
     "metadata": {},
     "output_type": "execute_result"
    }
   ],
   "source": [
    "result.keys()"
   ]
  },
  {
   "cell_type": "code",
   "execution_count": 36,
   "metadata": {},
   "outputs": [
    {
     "data": {
      "text/plain": [
       "dict"
      ]
     },
     "execution_count": 36,
     "metadata": {},
     "output_type": "execute_result"
    }
   ],
   "source": [
    "type(result['results'])"
   ]
  },
  {
   "cell_type": "code",
   "execution_count": 37,
   "metadata": {},
   "outputs": [
    {
     "data": {
      "text/plain": [
       "dict_keys(['common', 'juso'])"
      ]
     },
     "execution_count": 37,
     "metadata": {},
     "output_type": "execute_result"
    }
   ],
   "source": [
    "result['results'].keys()"
   ]
  },
  {
   "cell_type": "code",
   "execution_count": 38,
   "metadata": {},
   "outputs": [
    {
     "data": {
      "text/plain": [
       "list"
      ]
     },
     "execution_count": 38,
     "metadata": {},
     "output_type": "execute_result"
    }
   ],
   "source": [
    "type(result['results']['juso'])"
   ]
  },
  {
   "cell_type": "code",
   "execution_count": 39,
   "metadata": {},
   "outputs": [
    {
     "data": {
      "text/plain": [
       "dict_keys(['detBdNmList', 'engAddr', 'rn', 'emdNm', 'zipNo', 'roadAddrPart2', 'emdNo', 'sggNm', 'jibunAddr', 'siNm', 'roadAddrPart1', 'bdNm', 'admCd', 'udrtYn', 'lnbrMnnm', 'roadAddr', 'lnbrSlno', 'buldMnnm', 'bdKdcd', 'liNm', 'rnMgtSn', 'mtYn', 'bdMgtSn', 'buldSlno'])"
      ]
     },
     "execution_count": 39,
     "metadata": {},
     "output_type": "execute_result"
    }
   ],
   "source": [
    "result['results']['juso'][0].keys()"
   ]
  },
  {
   "cell_type": "code",
   "execution_count": 40,
   "metadata": {},
   "outputs": [
    {
     "data": {
      "text/plain": [
       "'제주특별자치도 제주시 조천읍 비자림로 768'"
      ]
     },
     "execution_count": 40,
     "metadata": {},
     "output_type": "execute_result"
    }
   ],
   "source": [
    "result['results']['juso'][0]['roadAddr']"
   ]
  },
  {
   "cell_type": "code",
   "execution_count": null,
   "metadata": {},
   "outputs": [],
   "source": []
  }
 ],
 "metadata": {
  "kernelspec": {
   "display_name": "base",
   "language": "python",
   "name": "python3"
  },
  "language_info": {
   "codemirror_mode": {
    "name": "ipython",
    "version": 3
   },
   "file_extension": ".py",
   "mimetype": "text/x-python",
   "name": "python",
   "nbconvert_exporter": "python",
   "pygments_lexer": "ipython3",
   "version": "3.10.10"
  },
  "orig_nbformat": 4,
  "vscode": {
   "interpreter": {
    "hash": "9ad9f9c592abbba12f5149783f85538b4c5669fc68fed8dcce4ba0e7c6bb3d74"
   }
  }
 },
 "nbformat": 4,
 "nbformat_minor": 2
}
