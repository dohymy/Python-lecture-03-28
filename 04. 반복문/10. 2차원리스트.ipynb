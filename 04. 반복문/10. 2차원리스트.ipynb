{
 "cells": [
  {
   "attachments": {},
   "cell_type": "markdown",
   "metadata": {},
   "source": [
    "##### 지뢰찾기"
   ]
  },
  {
   "cell_type": "code",
   "execution_count": null,
   "metadata": {},
   "outputs": [],
   "source": [
    "import random\n",
    "mines = []\n",
    "for _ in range(8):\n",
    "    row = []\n",
    "    for _ in range(8):\n",
    "        row.append('*')\n",
    "    else:\n",
    "        row.append('.')\n",
    "    mines.append(row)\n",
    "\n",
    "\n"
   ]
  },
  {
   "cell_type": "code",
   "execution_count": null,
   "metadata": {},
   "outputs": [],
   "source": [
    "mines = []\n",
    "for _ in range(8):\n",
    "    row = []\n",
    "    for _ in range(8):\n",
    "        mines = '*' if random.random() > 0.7 else '.'"
   ]
  },
  {
   "cell_type": "code",
   "execution_count": 2,
   "metadata": {},
   "outputs": [
    {
     "name": "stdout",
     "output_type": "stream",
     "text": [
      "* . . . * . * . . . . . . * . . . . . . . . * . * . * . * . * * . . . . . . . * * . . . . * . * . * . * . * * . . . . . . . . * "
     ]
    }
   ],
   "source": [
    "import random\n",
    "mines = [['*' if random.random()>0.7 else '.' for _ in range(8)]for _ in range(8)]\n",
    "for i in range(8):\n",
    "    for k in range(8):\n",
    "        print(mines[i][k], end=' ')\n",
    "    print"
   ]
  },
  {
   "cell_type": "code",
   "execution_count": null,
   "metadata": {},
   "outputs": [],
   "source": []
  }
 ],
 "metadata": {
  "kernelspec": {
   "display_name": "base",
   "language": "python",
   "name": "python3"
  },
  "language_info": {
   "codemirror_mode": {
    "name": "ipython",
    "version": 3
   },
   "file_extension": ".py",
   "mimetype": "text/x-python",
   "name": "python",
   "nbconvert_exporter": "python",
   "pygments_lexer": "ipython3",
   "version": "3.10.9"
  },
  "orig_nbformat": 4
 },
 "nbformat": 4,
 "nbformat_minor": 2
}
