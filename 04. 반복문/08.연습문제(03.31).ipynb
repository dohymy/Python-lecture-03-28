{
 "cells": [
  {
   "attachments": {},
   "cell_type": "markdown",
   "metadata": {},
   "source": [
    "##### 알람시계"
   ]
  },
  {
   "cell_type": "code",
   "execution_count": 12,
   "metadata": {},
   "outputs": [
    {
     "name": "stdout",
     "output_type": "stream",
     "text": [
      "23시 25분\n"
     ]
    }
   ],
   "source": [
    "hour = int(input())\n",
    "minute = int(input())\n",
    "\n",
    "if minute >= 45:\n",
    "    print(f'{hour}시 {minute - 45}분')\n",
    "else:\n",
    "    if hour == 0:\n",
    "        print(f'23시 {minute + 15}분')\n",
    "    else : \n",
    "        print(f'{hour - 1}시 {minute + 15}분')"
   ]
  },
  {
   "attachments": {},
   "cell_type": "markdown",
   "metadata": {},
   "source": [
    "##### 주사위"
   ]
  },
  {
   "cell_type": "code",
   "execution_count": 83,
   "metadata": {},
   "outputs": [
    {
     "name": "stdout",
     "output_type": "stream",
     "text": [
      "주사위 1 : 1, 주사위 2 : 2, 주사위 3 : 3, 결과 : 300원\n"
     ]
    }
   ],
   "source": [
    "import random\n",
    "\n",
    "dice1, dice2, dice3 = map(int, input().split())\n",
    "\n",
    "dice_all = (dice1, dice2, dice3)\n",
    "max(dice_all)\n",
    "max_val = max(dice_all)\n",
    "\n",
    "if dice1==dice2 and dice1==dice3:\n",
    "    print(f'주사위 1 : {dice1}, 주사위 2 : {dice2}, 주사위 3 : {dice3}, 결과 : {10000+dice1 *1000}원')\n",
    "elif dice1==dice2 or dice1==dice3 or dice2==dice3:\n",
    "    if dice1==dice2 :\n",
    "        x=dice1   \n",
    "    elif dice2==dice3 :\n",
    "        x=dice2\n",
    "    else:\n",
    "        x=dice3\n",
    "        print(f'주사위 1 : {dice1}, 주사위 2 : {dice2}, 주사위 3 : {dice3}, 결과 : {1000+x*100}원')\n",
    "else:\n",
    "    print(f'주사위 1 : {dice1}, 주사위 2 : {dice2}, 주사위 3 : {dice3}, 결과 : {max_val*100}원')"
   ]
  },
  {
   "attachments": {},
   "cell_type": "markdown",
   "metadata": {},
   "source": [
    "##### 2~10000 사이의 완전수 구하기"
   ]
  },
  {
   "cell_type": "code",
   "execution_count": 87,
   "metadata": {},
   "outputs": [],
   "source": [
    "num = 2\n",
    "sum = 0\n",
    "for i in range(1,10000) :\n",
    "    num += 1\n",
    "    i += 1\n",
    "    if i % num == 0 :\n",
    "        sum += i\n",
    "        print(sum)\n",
    "\n",
    "for (let i = 2; i <= 10000; i++) {\n",
    "    if (i == sumOfDivisors(i))\n",
    "        console.log(i);\n",
    "}"
   ]
  },
  {
   "attachments": {},
   "cell_type": "markdown",
   "metadata": {},
   "source": [
    "##### 도전과제: 피타고라스 수\n",
    "- 직각삼각형의 세변(a < b < c)이 있다.\n",
    "- a + b + c = 1000 을 만족시키는 직각삼각형의 세변을 구하세요. (단, a*a + b*b= c*c)"
   ]
  },
  {
   "cell_type": "code",
   "execution_count": null,
   "metadata": {},
   "outputs": [],
   "source": []
  }
 ],
 "metadata": {
  "kernelspec": {
   "display_name": "base",
   "language": "python",
   "name": "python3"
  },
  "language_info": {
   "codemirror_mode": {
    "name": "ipython",
    "version": 3
   },
   "file_extension": ".py",
   "mimetype": "text/x-python",
   "name": "python",
   "nbconvert_exporter": "python",
   "pygments_lexer": "ipython3",
   "version": "3.10.9"
  },
  "orig_nbformat": 4,
  "vscode": {
   "interpreter": {
    "hash": "9ad9f9c592abbba12f5149783f85538b4c5669fc68fed8dcce4ba0e7c6bb3d74"
   }
  }
 },
 "nbformat": 4,
 "nbformat_minor": 2
}
