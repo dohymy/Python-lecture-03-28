{
 "cells": [
  {
   "attachments": {},
   "cell_type": "markdown",
   "metadata": {},
   "source": [
    "##### 알람시계"
   ]
  },
  {
   "cell_type": "code",
   "execution_count": 12,
   "metadata": {},
   "outputs": [
    {
     "name": "stdout",
     "output_type": "stream",
     "text": [
      "23시 25분\n"
     ]
    }
   ],
   "source": [
    "hour = int(input())\n",
    "minute = int(input())\n",
    "\n",
    "if minute >= 45:\n",
    "    print(f'{hour}시 {minute - 45}분')\n",
    "else:\n",
    "    if hour == 0:\n",
    "        print(f'23시 {minute + 15}분')\n",
    "    else : \n",
    "        print(f'{hour - 1}시 {minute + 15}분')"
   ]
  },
  {
   "attachments": {},
   "cell_type": "markdown",
   "metadata": {},
   "source": [
    "##### 주사위"
   ]
  },
  {
   "cell_type": "code",
   "execution_count": 83,
   "metadata": {},
   "outputs": [
    {
     "name": "stdout",
     "output_type": "stream",
     "text": [
      "주사위 1 : 1, 주사위 2 : 2, 주사위 3 : 3, 결과 : 300원\n"
     ]
    }
   ],
   "source": [
    "import random\n",
    "\n",
    "dice1, dice2, dice3 = map(int, input().split())\n",
    "\n",
    "dice_all = (dice1, dice2, dice3)\n",
    "max(dice_all)\n",
    "max_val = max(dice_all)\n",
    "\n",
    "if dice1==dice2 and dice1==dice3:\n",
    "    print(f'주사위 1 : {dice1}, 주사위 2 : {dice2}, 주사위 3 : {dice3}, 결과 : {10000+dice1 *1000}원')\n",
    "elif dice1==dice2 or dice1==dice3 or dice2==dice3:\n",
    "    if dice1==dice2 :\n",
    "        x=dice1   \n",
    "    elif dice2==dice3 :\n",
    "        x=dice2\n",
    "    else:\n",
    "        x=dice3\n",
    "        print(f'주사위 1 : {dice1}, 주사위 2 : {dice2}, 주사위 3 : {dice3}, 결과 : {1000+x*100}원')\n",
    "else:\n",
    "    print(f'주사위 1 : {dice1}, 주사위 2 : {dice2}, 주사위 3 : {dice3}, 결과 : {max_val*100}원')"
   ]
  },
  {
   "attachments": {},
   "cell_type": "markdown",
   "metadata": {},
   "source": [
    "##### 2~10000 사이의 완전수 구하기"
   ]
  },
  {
   "cell_type": "code",
   "execution_count": 87,
   "metadata": {},
   "outputs": [],
   "source": [
    "num = 2\n",
    "sum = 0\n",
    "for i in range(1,10000) :\n",
    "    num += 1\n",
    "    i += 1\n",
    "    if i % num == 0 :\n",
    "        sum += i\n",
    "        print(sum)\n",
    "\n",
    "for (let i = 2; i <= 10000; i++) {\n",
    "    if (i == sumOfDivisors(i))\n",
    "        console.log(i);\n",
    "}"
   ]
  },
  {
   "attachments": {},
   "cell_type": "markdown",
   "metadata": {},
   "source": [
    "##### 도전과제: 피타고라스 수\n",
    "- 직각삼각형의 세변(a < b < c)이 있다.\n",
    "- a + b + c = 1000 을 만족시키는 직각삼각형의 세변을 구하세요. (단, a*a + b*b= c*c)"
   ]
  },
  {
   "cell_type": "code",
   "execution_count": null,
   "metadata": {},
   "outputs": [],
   "source": [
    "a, b, c = 1, 1, 1\n",
    "while True:\n",
    "    a += 1\n",
    "    b += 1\n",
    "    c += 1\n",
    "    sum = a + b + c\n",
    "    sum == 1000\n",
    "    break\n",
    "    print(a, b, c)\n"
   ]
  },
  {
   "cell_type": "code",
   "execution_count": null,
   "metadata": {},
   "outputs": [],
   "source": [
    "pri"
   ]
  },
  {
   "cell_type": "code",
   "execution_count": 3,
   "metadata": {},
   "outputs": [
    {
     "name": "stdout",
     "output_type": "stream",
     "text": [
      "[2, 8, 16, 32, 64, 128, 256, 512]\n"
     ]
    }
   ],
   "source": [
    "a, b = map(int, input().split())\n",
    "c = []\n",
    "\n",
    "for i in range(a, b+1) :\n",
    "    c.append(2 ** i)\n",
    "c.pop(1)\n",
    "c.pop(-1)\n",
    "print(c)"
   ]
  },
  {
   "cell_type": "code",
   "execution_count": 4,
   "metadata": {},
   "outputs": [
    {
     "data": {
      "text/plain": [
       "5"
      ]
     },
     "execution_count": 4,
     "metadata": {},
     "output_type": "execute_result"
    }
   ],
   "source": [
    "import string\n",
    "a = input()\n",
    "a.strip(string.punctuation).split().count('the')\n"
   ]
  },
  {
   "cell_type": "code",
   "execution_count": 1,
   "metadata": {},
   "outputs": [
    {
     "name": "stdout",
     "output_type": "stream",
     "text": [
      "[2, 8, 16, 32, 64, 128, 256, 512, 1024, 4096]\n"
     ]
    }
   ],
   "source": [
    "m,n = map(int,input().split())\n",
    "if 1<=m<=10 and 10<=n<=30 and m<n :\n",
    "    power_list = []\n",
    "    for i in range(m, n+1):\n",
    "        power_list.append(2 ** i)\n",
    "    del power_list[1], power_list[-2]\n",
    "    print(power_list)"
   ]
  },
  {
   "cell_type": "code",
   "execution_count": 3,
   "metadata": {},
   "outputs": [
    {
     "name": "stdout",
     "output_type": "stream",
     "text": [
      "[2, 8, 16, 32, 64, 128, 256, 512, 1024, 4096]\n"
     ]
    }
   ],
   "source": [
    "if 1<=m<=10 and 10<=n<=30 and m<n :\n",
    "    power_list = []\n",
    "    power_list = [2**i for i in range(m, n+1)]\n",
    "    del power_list[1], power_list[-2]\n",
    "    print(power_list)"
   ]
  },
  {
   "cell_type": "code",
   "execution_count": null,
   "metadata": {},
   "outputs": [],
   "source": [
    "text_list = text.split()\n",
    "count_the = 0\n",
    "for word in text_list:\n",
    "    word = word.strip(\"',.\").lower()\n",
    "    if word == 'the':\n",
    "        count_the += 1\n",
    "print(count_the)"
   ]
  },
  {
   "cell_type": "code",
   "execution_count": 8,
   "metadata": {},
   "outputs": [
    {
     "name": "stdout",
     "output_type": "stream",
     "text": [
      "3,423,423\n",
      "  745,632\n",
      "  634,634\n",
      "   46,377\n",
      "    1,234\n",
      "      654\n"
     ]
    }
   ],
   "source": [
    "input_str = '1234;654;745632;3423423;634634;46377'\n",
    "price_list = list(map(int, input_str.split(';')))\n",
    "price_list.sort(reverse=True)\n",
    "for price in price_list:\n",
    "    print(f'{price:9,d}')"
   ]
  },
  {
   "attachments": {},
   "cell_type": "markdown",
   "metadata": {},
   "source": [
    "##### 심사문제 25"
   ]
  },
  {
   "cell_type": "code",
   "execution_count": 13,
   "metadata": {},
   "outputs": [
    {
     "data": {
      "text/plain": [
       "{'a': 10, 'b': 20, 'c': 30}"
      ]
     },
     "execution_count": 13,
     "metadata": {},
     "output_type": "execute_result"
    }
   ],
   "source": [
    "keys = input().split()\n",
    "values = map(int,input().split())\n",
    "d = dict(zip(keys, values))\n",
    "del d['d']\n",
    "d\n"
   ]
  },
  {
   "cell_type": "code",
   "execution_count": null,
   "metadata": {},
   "outputs": [],
   "source": [
    "# 반복문에서 반복의 대상인 딕셔너리의 크기를 변경하면 에러발생\n",
    "for key, value in d.items():\n",
    "    if value == 30:\n",
    "        del d[key]"
   ]
  },
  {
   "cell_type": "code",
   "execution_count": 16,
   "metadata": {},
   "outputs": [
    {
     "data": {
      "text/plain": [
       "{'alpha': 10, 'bravo': 20}"
      ]
     },
     "execution_count": 16,
     "metadata": {},
     "output_type": "execute_result"
    }
   ],
   "source": [
    "d = {'alpha':10, 'bravo':20}\n",
    "del_key = ''\n",
    "for key, value in d.items():\n",
    "    if value == 30:\n",
    "        del_key = key\n",
    "if del_key:\n",
    "    del d[key]\n",
    "d"
   ]
  },
  {
   "attachments": {},
   "cell_type": "markdown",
   "metadata": {},
   "source": [
    "##### 심사문제 26"
   ]
  },
  {
   "cell_type": "code",
   "execution_count": 24,
   "metadata": {},
   "outputs": [
    {
     "data": {
      "text/plain": [
       "{1, 2, 5, 10}"
      ]
     },
     "execution_count": 24,
     "metadata": {},
     "output_type": "execute_result"
    }
   ],
   "source": [
    "# 약수의 집합\n",
    "div_set = set()\n",
    "x = 10\n",
    "for i in range(1, x+i):\n",
    "    if x % i == 0:\n",
    "        div_set.add(i)\n",
    "div_set"
   ]
  },
  {
   "cell_type": "code",
   "execution_count": 25,
   "metadata": {},
   "outputs": [
    {
     "data": {
      "text/plain": [
       "{1, 2, 5, 10}"
      ]
     },
     "execution_count": 25,
     "metadata": {},
     "output_type": "execute_result"
    }
   ],
   "source": [
    "div_set = {i for i in range(1, x+1) if x % i == 0}\n",
    "div_set"
   ]
  },
  {
   "cell_type": "code",
   "execution_count": 20,
   "metadata": {},
   "outputs": [
    {
     "name": "stdout",
     "output_type": "stream",
     "text": [
      "{1} {1, 2, 10, 5}\n"
     ]
    }
   ],
   "source": [
    "m, n = map(int, input().split())\n",
    "m_set = {i for i in range(1, m+1) if m % i == 0}\n",
    "n_set = {i for i in range(1, n+1) if n % i == 0}\n",
    "print(m_set, n_set)\n"
   ]
  },
  {
   "cell_type": "code",
   "execution_count": 21,
   "metadata": {},
   "outputs": [
    {
     "data": {
      "text/plain": [
       "{1}"
      ]
     },
     "execution_count": 21,
     "metadata": {},
     "output_type": "execute_result"
    }
   ],
   "source": [
    "common_divisors = m_set & n_set\n",
    "common_divisors"
   ]
  },
  {
   "attachments": {},
   "cell_type": "markdown",
   "metadata": {},
   "source": [
    "##### 지뢰찾기"
   ]
  },
  {
   "cell_type": "code",
   "execution_count": 27,
   "metadata": {},
   "outputs": [],
   "source": [
    "def print_mines(m):\n",
    "    for row in m:\n",
    "        for element in row:\n",
    "            print(element, end=' ')\n",
    "        print()"
   ]
  },
  {
   "cell_type": "code",
   "execution_count": 28,
   "metadata": {},
   "outputs": [
    {
     "name": "stdout",
     "output_type": "stream",
     "text": [
      "* . . . . . . . \n",
      ". . * . . * . . \n",
      "* * . . * . * . \n",
      ". . . . . * . . \n",
      ". . . * . . . . \n",
      "* * . . * . . . \n",
      ". . . . . . * . \n",
      ". . * . . * . . \n"
     ]
    }
   ],
   "source": [
    "import random\n",
    "row, col = map(int, input().split())\n",
    "mines = [['*' if random.random() > 0.7 else '.' for _ in range(col)] for _ in range(row)]\n",
    "print_mines(mines)"
   ]
  },
  {
   "cell_type": "code",
   "execution_count": 33,
   "metadata": {},
   "outputs": [
    {
     "name": "stdout",
     "output_type": "stream",
     "text": [
      ". . . . . . . . . . \n",
      ". . . * . . * . . . \n",
      ". . . * . . * . . . \n",
      ". . . * . . * . . . \n",
      ". . . * . . * . . . \n",
      ". . . * . . * . . . \n",
      ". . . * . . * . . . \n",
      ". . . * . . * . . . \n",
      ". . . * . . * . . . \n",
      ". . . . . . . . . . \n"
     ]
    }
   ],
   "source": [
    "# 위 모양을 '.'으로 감싸기\n",
    "pad_mines = [['.']*(col + 2)]     # 맨 윗줄\n",
    "for pad_row in mines:\n",
    "    line = ['.']                  # 맨 윗줄과 아랫줄을 제외한 모든 줄\n",
    "    # for element in row:\n",
    "    #     line.append(element)\n",
    "    line.extend(row)              # line 뒤에 row를 붙임 (.row)\n",
    "    line.append('.')              # row가 붙은 line 뒤에 '.'을 붙임 (.row.)\n",
    "    pad_mines.append(line)\n",
    "pad_mines.append(['.']*(col+2))   # 맨 아랫줄\n",
    "print_mines(pad_mines)"
   ]
  },
  {
   "cell_type": "code",
   "execution_count": 34,
   "metadata": {},
   "outputs": [
    {
     "ename": "TypeError",
     "evalue": "can only concatenate list (not \"int\") to list",
     "output_type": "error",
     "traceback": [
      "\u001b[1;31m---------------------------------------------------------------------------\u001b[0m",
      "\u001b[1;31mTypeError\u001b[0m                                 Traceback (most recent call last)",
      "Cell \u001b[1;32mIn[34], line 2\u001b[0m\n\u001b[0;32m      1\u001b[0m final_mines \u001b[39m=\u001b[39m []\n\u001b[1;32m----> 2\u001b[0m \u001b[39mfor\u001b[39;00m i \u001b[39min\u001b[39;00m \u001b[39mrange\u001b[39m(\u001b[39m1\u001b[39m, row\u001b[39m+\u001b[39;49m\u001b[39m1\u001b[39;49m):\n\u001b[0;32m      3\u001b[0m     row \u001b[39m=\u001b[39m []\n\u001b[0;32m      4\u001b[0m     \u001b[39mfor\u001b[39;00m k \u001b[39min\u001b[39;00m \u001b[39mrange\u001b[39m(\u001b[39m1\u001b[39m, col\u001b[39m+\u001b[39m\u001b[39m1\u001b[39m):\n",
      "\u001b[1;31mTypeError\u001b[0m: can only concatenate list (not \"int\") to list"
     ]
    }
   ],
   "source": [
    "final_mines = []\n",
    "for i in range(1, row+1):\n",
    "    row = []\n",
    "    for k in range(1, col+1):\n",
    "        if pad_mines[i][k] == '*':\n",
    "            row.append('*')\n",
    "        else:\n",
    "            count = (pad_mines[i-1][k-1] == '*') + (pad_mines[i-1][k] == '*') + (pad_mines[i-1][k+1]=='*') + \\\n",
    "                    (pad_mines[i][k-1]=='*')                                + (pad_mines[i][k+1]=='*')+\\\n",
    "                    (pad_mines[i+1][k-1] == '*') + (pad_mines[i+1][k] == '*') + (pad_mines[i+1][k+1]=='*')\n",
    "            final_mines.append(row)\n",
    "        \n",
    "print_mines(final_mines)\n"
   ]
  },
  {
   "cell_type": "code",
   "execution_count": null,
   "metadata": {},
   "outputs": [],
   "source": []
  }
 ],
 "metadata": {
  "kernelspec": {
   "display_name": "base",
   "language": "python",
   "name": "python3"
  },
  "language_info": {
   "codemirror_mode": {
    "name": "ipython",
    "version": 3
   },
   "file_extension": ".py",
   "mimetype": "text/x-python",
   "name": "python",
   "nbconvert_exporter": "python",
   "pygments_lexer": "ipython3",
   "version": "3.10.9"
  },
  "orig_nbformat": 4,
  "vscode": {
   "interpreter": {
    "hash": "9ad9f9c592abbba12f5149783f85538b4c5669fc68fed8dcce4ba0e7c6bb3d74"
   }
  }
 },
 "nbformat": 4,
 "nbformat_minor": 2
}
