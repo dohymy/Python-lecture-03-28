{
 "cells": [
  {
   "attachments": {},
   "cell_type": "markdown",
   "metadata": {},
   "source": [
    "##### 4-2. 딕셔너리"
   ]
  },
  {
   "attachments": {},
   "cell_type": "markdown",
   "metadata": {},
   "source": [
    "- 딕셔너리 선언\n",
    "    - {'A' : 'B'}"
   ]
  },
  {
   "cell_type": "code",
   "execution_count": 4,
   "metadata": {},
   "outputs": [
    {
     "data": {
      "text/plain": [
       "({'name': 'James', 'height': '175', 'age': '26', 'job': 'Programmer'}, dict)"
      ]
     },
     "execution_count": 4,
     "metadata": {},
     "output_type": "execute_result"
    }
   ],
   "source": [
    "person_list = ['James', 175, 26, 'Programmer']\n",
    "person_dict = {'name' : 'James', 'height' : '175', 'age' : '26', 'job' : 'Programmer'}\n",
    "person_dict, type(person_dict)"
   ]
  },
  {
   "attachments": {},
   "cell_type": "markdown",
   "metadata": {},
   "source": [
    "- 인덱싱"
   ]
  },
  {
   "cell_type": "code",
   "execution_count": 5,
   "metadata": {},
   "outputs": [
    {
     "data": {
      "text/plain": [
       "('James', '26')"
      ]
     },
     "execution_count": 5,
     "metadata": {},
     "output_type": "execute_result"
    }
   ],
   "source": [
    "# 요소를 꺼내서 보는 법\n",
    "person_dict['name'], person_dict['age']\n"
   ]
  },
  {
   "cell_type": "code",
   "execution_count": 6,
   "metadata": {},
   "outputs": [
    {
     "data": {
      "text/plain": [
       "'26'"
      ]
     },
     "execution_count": 6,
     "metadata": {},
     "output_type": "execute_result"
    }
   ],
   "source": [
    "# 문자열을 변수로 써서 사용할 수도 있다\n",
    "key = 'age'\n",
    "person_dict[key]"
   ]
  },
  {
   "cell_type": "code",
   "execution_count": 19,
   "metadata": {},
   "outputs": [
    {
     "data": {
      "text/plain": [
       "'James'"
      ]
     },
     "execution_count": 19,
     "metadata": {},
     "output_type": "execute_result"
    }
   ],
   "source": [
    "person_dict.get('name')"
   ]
  },
  {
   "attachments": {},
   "cell_type": "markdown",
   "metadata": {},
   "source": [
    "- 복잡한 딕셔너리"
   ]
  },
  {
   "cell_type": "code",
   "execution_count": 11,
   "metadata": {},
   "outputs": [
    {
     "data": {
      "text/plain": [
       "{'director': ['Anthony', 'Joe'],\n",
       " 'cast': ['Ironman', '타노스', '토르'],\n",
       " 'company': {'name': '연세', 'est': 2023, 'place': ['수원역', '장안']}}"
      ]
     },
     "execution_count": 11,
     "metadata": {},
     "output_type": "execute_result"
    }
   ],
   "source": [
    "# 딕셔너리 요소에 리스트가 있는 경우\n",
    "movie_maker = {\n",
    "    'director' : ['Anthony', 'Joe'],\n",
    "    'cast' : ['Ironman', '타노스', '토르'],\n",
    "    'company' : {'name':'연세', 'est':2023,'place': ['수원역','장안']}\n",
    "}\n",
    "movie_maker"
   ]
  },
  {
   "cell_type": "code",
   "execution_count": 8,
   "metadata": {},
   "outputs": [
    {
     "data": {
      "text/plain": [
       "'Anthony'"
      ]
     },
     "execution_count": 8,
     "metadata": {},
     "output_type": "execute_result"
    }
   ],
   "source": [
    "# 요소를 출력하는 법\n",
    "movie_maker['director'][0]"
   ]
  },
  {
   "cell_type": "code",
   "execution_count": 13,
   "metadata": {},
   "outputs": [
    {
     "data": {
      "text/plain": [
       "'연세'"
      ]
     },
     "execution_count": 13,
     "metadata": {},
     "output_type": "execute_result"
    }
   ],
   "source": [
    "# 한 단계씩 차근차근, 타입도 확인\n",
    "movie_maker['company']['name']"
   ]
  },
  {
   "cell_type": "code",
   "execution_count": 15,
   "metadata": {},
   "outputs": [
    {
     "data": {
      "text/plain": [
       "({'name': '연세', 'est': 2023, 'place': ['수원역', '장안']}, list)"
      ]
     },
     "execution_count": 15,
     "metadata": {},
     "output_type": "execute_result"
    }
   ],
   "source": [
    "movie_maker['company'], type(movie_maker['company']['place'])"
   ]
  },
  {
   "cell_type": "code",
   "execution_count": 16,
   "metadata": {},
   "outputs": [
    {
     "data": {
      "text/plain": [
       "'수원역'"
      ]
     },
     "execution_count": 16,
     "metadata": {},
     "output_type": "execute_result"
    }
   ],
   "source": [
    "movie_maker['company']['place'][0]"
   ]
  },
  {
   "attachments": {},
   "cell_type": "markdown",
   "metadata": {},
   "source": [
    "- key-value 추가하기"
   ]
  },
  {
   "cell_type": "code",
   "execution_count": 6,
   "metadata": {},
   "outputs": [
    {
     "data": {
      "text/plain": [
       "{'name': 'James', 'height': '175', 'age': '26', 'job': 'Programmer'}"
      ]
     },
     "execution_count": 6,
     "metadata": {},
     "output_type": "execute_result"
    }
   ],
   "source": [
    "person_dict"
   ]
  },
  {
   "cell_type": "code",
   "execution_count": 7,
   "metadata": {},
   "outputs": [
    {
     "data": {
      "text/plain": [
       "{'name': 'James',\n",
       " 'height': '175',\n",
       " 'age': '26',\n",
       " 'job': 'Programmer',\n",
       " 'gender': '남'}"
      ]
     },
     "execution_count": 7,
     "metadata": {},
     "output_type": "execute_result"
    }
   ],
   "source": [
    "# 딕셔너리에 없는 키 값으로 할당문을 사용하면 새로운 키 값이 생긴다\n",
    "person_dict['gender'] = '남'\n",
    "person_dict"
   ]
  },
  {
   "cell_type": "code",
   "execution_count": 9,
   "metadata": {},
   "outputs": [
    {
     "data": {
      "text/plain": [
       "{'name': 'James',\n",
       " 'height': '175',\n",
       " 'age': 30,\n",
       " 'job': 'Programmer',\n",
       " 'gender': '남'}"
      ]
     },
     "execution_count": 9,
     "metadata": {},
     "output_type": "execute_result"
    }
   ],
   "source": [
    "# 기존 딕셔너리에 있는 키 값을 사용하면 값이 변경된다\n",
    "person_dict['age'] = 30\n",
    "person_dict"
   ]
  },
  {
   "cell_type": "code",
   "execution_count": 10,
   "metadata": {},
   "outputs": [
    {
     "data": {
      "text/plain": [
       "{'name': 'James',\n",
       " 'height': '175',\n",
       " 'age': 30,\n",
       " 'job': 'Programmer',\n",
       " 'gender': '남',\n",
       " 'weight': None}"
      ]
     },
     "execution_count": 10,
     "metadata": {},
     "output_type": "execute_result"
    }
   ],
   "source": [
    "# setdefault 메소드 : 새로운 키를 만든다\n",
    "person_dict.setdefault('weight')\n",
    "person_dict"
   ]
  },
  {
   "cell_type": "code",
   "execution_count": 12,
   "metadata": {},
   "outputs": [
    {
     "data": {
      "text/plain": [
       "{'name': 'James',\n",
       " 'height': '175',\n",
       " 'age': 30,\n",
       " 'job': 'Programmer',\n",
       " 'gender': '남',\n",
       " 'weight': 70}"
      ]
     },
     "execution_count": 12,
     "metadata": {},
     "output_type": "execute_result"
    }
   ],
   "source": [
    "# update 메소드 : 새로운 키 값을 만든다\n",
    "person_dict.update(weight=70)\n",
    "person_dict"
   ]
  },
  {
   "attachments": {},
   "cell_type": "markdown",
   "metadata": {},
   "source": [
    "- key-value 제거하기"
   ]
  },
  {
   "cell_type": "code",
   "execution_count": 13,
   "metadata": {},
   "outputs": [
    {
     "data": {
      "text/plain": [
       "{'name': 'James',\n",
       " 'height': '175',\n",
       " 'age': 30,\n",
       " 'job': 'Programmer',\n",
       " 'gender': '남'}"
      ]
     },
     "execution_count": 13,
     "metadata": {},
     "output_type": "execute_result"
    }
   ],
   "source": [
    "del person_dict['weight']\n",
    "person_dict"
   ]
  },
  {
   "cell_type": "code",
   "execution_count": 18,
   "metadata": {},
   "outputs": [
    {
     "data": {
      "text/plain": [
       "{'name': 'James', 'height': '175', 'age': 30, 'job': 'Programmer'}"
      ]
     },
     "execution_count": 18,
     "metadata": {},
     "output_type": "execute_result"
    }
   ],
   "source": [
    "# pop 메소드 (list의 요소 제거 메소드)\n",
    "# 딕셔너리의 키 값은 순서가 보장되지 않으므로\n",
    "# 제거할 키를 써줘야 한다\n",
    "# person_dict.pop('gender')\n",
    "person_dict"
   ]
  },
  {
   "cell_type": "code",
   "execution_count": 20,
   "metadata": {},
   "outputs": [
    {
     "data": {
      "text/plain": [
       "('Programmer', {'name': 'James', 'height': '175', 'age': 30})"
      ]
     },
     "execution_count": 20,
     "metadata": {},
     "output_type": "execute_result"
    }
   ],
   "source": [
    "# pop은 제거할 요소를 뱉어내고 죽는다\n",
    "job = person_dict.pop('job')\n",
    "job, person_dict"
   ]
  },
  {
   "cell_type": "markdown",
   "metadata": {},
   "source": [
    "- in 연산자 : 딕셔너리 안에 특정 키가 있는지 여부"
   ]
  },
  {
   "cell_type": "code",
   "execution_count": 23,
   "metadata": {},
   "outputs": [
    {
     "data": {
      "text/plain": [
       "(True, False)"
      ]
     },
     "execution_count": 23,
     "metadata": {},
     "output_type": "execute_result"
    }
   ],
   "source": [
    "'age' in person_dict,'James' in person_dict\n",
    "# 키 이름은 되지만 키 값은 안된다."
   ]
  },
  {
   "cell_type": "code",
   "execution_count": 28,
   "metadata": {},
   "outputs": [
    {
     "data": {
      "text/plain": [
       "{'a': <map at 0x280b62d0940>}"
      ]
     },
     "execution_count": 28,
     "metadata": {},
     "output_type": "execute_result"
    }
   ],
   "source": [
    "a = input().split()\n",
    "b = map(float, input().split())\n",
    "keys = ['a']\n",
    "value = [b]\n",
    "dict(zip(keys,value))"
   ]
  },
  {
   "attachments": {},
   "cell_type": "markdown",
   "metadata": {},
   "source": [
    "- zip 함수"
   ]
  },
  {
   "cell_type": "code",
   "execution_count": 1,
   "metadata": {},
   "outputs": [
    {
     "data": {
      "text/plain": [
       "{'a': 213, 'b': 456, 'c': 789}"
      ]
     },
     "execution_count": 1,
     "metadata": {},
     "output_type": "execute_result"
    }
   ],
   "source": [
    "# {'a':123, 'b':456, 'c':789} 이런 식으로 만들 때\n",
    "keys = ['a','b','c']\n",
    "value = [213, 456, 789]\n",
    "dict(zip(keys,value))"
   ]
  },
  {
   "cell_type": "code",
   "execution_count": null,
   "metadata": {},
   "outputs": [],
   "source": []
  }
 ],
 "metadata": {
  "kernelspec": {
   "display_name": "base",
   "language": "python",
   "name": "python3"
  },
  "language_info": {
   "codemirror_mode": {
    "name": "ipython",
    "version": 3
   },
   "file_extension": ".py",
   "mimetype": "text/x-python",
   "name": "python",
   "nbconvert_exporter": "python",
   "pygments_lexer": "ipython3",
   "version": "3.10.9"
  },
  "orig_nbformat": 4,
  "vscode": {
   "interpreter": {
    "hash": "9ad9f9c592abbba12f5149783f85538b4c5669fc68fed8dcce4ba0e7c6bb3d74"
   }
  }
 },
 "nbformat": 4,
 "nbformat_minor": 2
}
