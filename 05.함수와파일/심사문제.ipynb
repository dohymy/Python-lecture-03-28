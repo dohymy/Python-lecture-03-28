{
 "cells": [
  {
   "attachments": {},
   "cell_type": "markdown",
   "metadata": {},
   "source": [
    "### 코딩도장 29~32"
   ]
  },
  {
   "cell_type": "code",
   "execution_count": 1,
   "metadata": {},
   "outputs": [
    {
     "name": "stdout",
     "output_type": "stream",
     "text": [
      "덧셈: 16, 뺄셈: 8, 곱셈:48, 나눗셈:3.0\n"
     ]
    }
   ],
   "source": [
    "x,y = map(int, input().split())\n",
    "\n",
    "def calc(x,y):\n",
    "    return x+y, x-y, x*y, float(x/y)\n",
    "\n",
    "a, s, m, d = calc(x,y)\n",
    "print(f'덧셈: {a}, 뺄셈: {s}, 곱셈:{m}, 나눗셈:{d}')"
   ]
  },
  {
   "cell_type": "code",
   "execution_count": 2,
   "metadata": {},
   "outputs": [],
   "source": [
    "kor, eng, mat, sci = map(int,input().split())\n",
    "def get_min_max_score(*args):\n",
    "    return min(args), max(args)\n",
    "def get_average(**kwargs):\n",
    "    return float(sum(kwargs.values())/len(kwargs))\n",
    "\n"
   ]
  },
  {
   "cell_type": "code",
   "execution_count": 1,
   "metadata": {},
   "outputs": [
    {
     "name": "stdout",
     "output_type": "stream",
     "text": [
      "55\n"
     ]
    }
   ],
   "source": [
    "def fib(n):\n",
    "    if n==0:\n",
    "        return 0\n",
    "    if n==1:\n",
    "        return 1\n",
    "    return fib(n-1) + fib(n-2)\n",
    "\n",
    "n = int(input())\n",
    "print(fib(n))"
   ]
  },
  {
   "cell_type": "code",
   "execution_count": null,
   "metadata": {},
   "outputs": [],
   "source": [
    "filename = '1.jpg'\n",
    "num = int(filename.split('.')[0])\n",
    "ext = filename.split('.')[1]\n",
    "print(f'{num:03d}.{ext}')"
   ]
  },
  {
   "cell_type": "code",
   "execution_count": 5,
   "metadata": {},
   "outputs": [
    {
     "name": "stdout",
     "output_type": "stream",
     "text": [
      "['001.png', '010.jpg', '099.docx', '101.gif']\n"
     ]
    }
   ],
   "source": [
    "files = input().split()\n",
    "print(list(map(lambda x : f\"{int(x.split('.')[0]):03d}.{x.split('.')[1]}\", files)))"
   ]
  },
  {
   "cell_type": "code",
   "execution_count": null,
   "metadata": {},
   "outputs": [],
   "source": []
  }
 ],
 "metadata": {
  "kernelspec": {
   "display_name": "base",
   "language": "python",
   "name": "python3"
  },
  "language_info": {
   "codemirror_mode": {
    "name": "ipython",
    "version": 3
   },
   "file_extension": ".py",
   "mimetype": "text/x-python",
   "name": "python",
   "nbconvert_exporter": "python",
   "pygments_lexer": "ipython3",
   "version": "3.10.9"
  },
  "orig_nbformat": 4
 },
 "nbformat": 4,
 "nbformat_minor": 2
}
