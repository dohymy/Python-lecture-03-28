{
 "cells": [
  {
   "attachments": {},
   "cell_type": "markdown",
   "metadata": {},
   "source": [
    "### 도전 문제 : 파일의 단어 갯수 세기\n",
    "- 총 단어수\n",
    "- 고유 단어수\n",
    "- 가장 많이 사용된 단어 10개"
   ]
  },
  {
   "attachments": {},
   "cell_type": "markdown",
   "metadata": {},
   "source": [
    "- step 01. 파일에서 데이터 읽기"
   ]
  },
  {
   "cell_type": "code",
   "execution_count": 2,
   "metadata": {},
   "outputs": [],
   "source": [
    "with open('data/lorem.txt','r') as file:\n",
    "    contents = file.read()"
   ]
  },
  {
   "attachments": {},
   "cell_type": "markdown",
   "metadata": {},
   "source": [
    "- step 02. 구둣점을 제거하고 소문자로 만들기"
   ]
  },
  {
   "cell_type": "code",
   "execution_count": 3,
   "metadata": {},
   "outputs": [
    {
     "data": {
      "text/plain": [
       "'what is lorem ipsumlorem ipsum is simply dummy text of the printing and typesetting industry lorem ipsum has been the industrys standard dummy text ever since the 1500s when an unknown printer took a galley of type and scrambled it to make a type specimen book it has survived not only five centuries but also the leap into electronic typesetting remaining essentially unchanged it was popularised in the 1960s with the release of letraset sheets containing lorem ipsum passages and more recently with desktop publishing software like aldus pagemaker including versions of lorem ipsumwhy do we use itit is a long established fact that a reader will be distracted by the readable content of a page when looking at its layout the point of using lorem ipsum is that it has a more-or-less normal distribution of letters as opposed to using content here content here making it look like readable english many desktop publishing packages and web page editors now use lorem ipsum as their default model text and a search for lorem ipsum will uncover many web sites still in their infancy various versions have evolved over the years sometimes by accident sometimes on purpose (injected humour and the like)where does it come fromcontrary to popular belief lorem ipsum is not simply random text it has roots in a piece of classical latin literature from 45 bc making it over 2000 years old richard mcclintock a latin professor at hampden-sydney college in virginia looked up one of the more obscure latin words consectetur from a lorem ipsum passage and going through the cites of the word in classical literature discovered the undoubtable source lorem ipsum comes from sections 11032 and 11033 of de finibus bonorum et malorum (the extremes of good and evil) by cicero written in 45 bc this book is a treatise on the theory of ethics very popular during the renaissance the first line of lorem ipsum lorem ipsum dolor sit amet comes from a line in section 11032the standard chunk of lorem ipsum used since the 1500s is reproduced below for those interested sections 11032 and 11033 from de finibus bonorum et malorum by cicero are also reproduced in their exact original form accompanied by english versions from the 1914 translation by h rackhamwhere can i get somethere are many variations of passages of lorem ipsum available but the majority have suffered alteration in some form by injected humour or randomised words which dont look even slightly believable if you are going to use a passage of lorem ipsum you need to be sure there isnt anything embarrassing hidden in the middle of text all the lorem ipsum generators on the internet tend to repeat predefined chunks as necessary making this the first true generator on the internet it uses a dictionary of over 200 latin words combined with a handful of model sentence structures to generate lorem ipsum which looks reasonable the generated lorem ipsum is therefore always free from repetition injected humour or non-characteristic words etc'"
      ]
     },
     "execution_count": 3,
     "metadata": {},
     "output_type": "execute_result"
    }
   ],
   "source": [
    "clean_contents = contents.replace('.','')\\\n",
    "                         .replace(',','')\\\n",
    "                         .replace('?','')\\\n",
    "                         .replace('\"','')\\\n",
    "                         .replace(\"'\",'')\\\n",
    "                         .replace('\\n','')\\\n",
    "                         .lower()\n",
    "clean_contents"
   ]
  },
  {
   "attachments": {},
   "cell_type": "markdown",
   "metadata": {},
   "source": [
    "- step 03. 공백으로 분리하여 words리스트 만들기"
   ]
  },
  {
   "cell_type": "code",
   "execution_count": 4,
   "metadata": {},
   "outputs": [
    {
     "data": {
      "text/plain": [
       "['what', 'is', 'lorem', 'ipsumlorem', 'ipsum']"
      ]
     },
     "execution_count": 4,
     "metadata": {},
     "output_type": "execute_result"
    }
   ],
   "source": [
    "words = list(clean_contents.split())\n",
    "words[:5]"
   ]
  },
  {
   "attachments": {},
   "cell_type": "markdown",
   "metadata": {},
   "source": [
    "- step 04. 총 단어수"
   ]
  },
  {
   "cell_type": "code",
   "execution_count": 5,
   "metadata": {},
   "outputs": [
    {
     "name": "stdout",
     "output_type": "stream",
     "text": [
      "총 단어수는 503개이고, 고유단어는 262개입니다.\n"
     ]
    }
   ],
   "source": [
    "print(f'총 단어수는 {len(words)}개이고, 고유단어는 {len(set(words))}개입니다.')"
   ]
  },
  {
   "attachments": {},
   "cell_type": "markdown",
   "metadata": {},
   "source": [
    "- step 04-2. 고유단어가 key이고, 빈도는 value인 딕셔너리 만들기"
   ]
  },
  {
   "cell_type": "code",
   "execution_count": 6,
   "metadata": {},
   "outputs": [
    {
     "data": {
      "text/plain": [
       "{262: 503}"
      ]
     },
     "execution_count": 6,
     "metadata": {},
     "output_type": "execute_result"
    }
   ],
   "source": [
    "keys = [len(set(words))]\n",
    "value = [len(words)]\n",
    "dict(zip(keys,value))"
   ]
  },
  {
   "cell_type": "code",
   "execution_count": 7,
   "metadata": {},
   "outputs": [
    {
     "data": {
      "text/plain": [
       "262"
      ]
     },
     "execution_count": 7,
     "metadata": {},
     "output_type": "execute_result"
    }
   ],
   "source": [
    "dic = {}\n",
    "for word in words:\n",
    "    if word in dic.keys():\n",
    "        dic[word] += 1\n",
    "    else :\n",
    "        dic[word] = 1\n",
    "len(dic)"
   ]
  },
  {
   "attachments": {},
   "cell_type": "markdown",
   "metadata": {},
   "source": [
    "- step 05. 빈도의 내림차순으로 딕셔너리 정렬하기"
   ]
  },
  {
   "cell_type": "code",
   "execution_count": 8,
   "metadata": {},
   "outputs": [
    {
     "name": "stdout",
     "output_type": "stream",
     "text": [
      "가장 많이 출력된 단어는 the 이고, 26번 출력되었다.\n"
     ]
    }
   ],
   "source": [
    "import operator\n",
    "\n",
    "keys = sorted(dic.items(), key=operator.itemgetter(1), reverse=True)\n",
    "print(f\"가장 많이 출력된 단어는 {keys[0][0]} 이고, {keys[0][1]}번 출력되었다.\")\n"
   ]
  },
  {
   "cell_type": "code",
   "execution_count": 10,
   "metadata": {},
   "outputs": [
    {
     "data": {
      "text/plain": [
       "[('the', 26),\n",
       " ('of', 21),\n",
       " ('lorem', 18),\n",
       " ('ipsum', 17),\n",
       " ('a', 15),\n",
       " ('and', 10),\n",
       " ('in', 10),\n",
       " ('it', 9),\n",
       " ('is', 8),\n",
       " ('to', 7)]"
      ]
     },
     "execution_count": 10,
     "metadata": {},
     "output_type": "execute_result"
    }
   ],
   "source": [
    "result = sorted(dic.items(), key=lambda x : x[1], reverse=True)\n",
    "result[:10]"
   ]
  },
  {
   "cell_type": "code",
   "execution_count": 12,
   "metadata": {},
   "outputs": [
    {
     "name": "stdout",
     "output_type": "stream",
     "text": [
      "총단어는 528개 이고, 고유단어는 528개입니다.\n",
      "사용빈도가 높은 단어 top10\n",
      "the\t28\n",
      "of\t21\n",
      "lorem\t19\n",
      "ipsum\t19\n",
      "a\t15\n",
      "it\t11\n",
      "and\t10\n",
      "in\t10\n",
      "is\t8\n",
      "from\t8\n"
     ]
    }
   ],
   "source": [
    "import re, string\n",
    "\n",
    "with open('data/lorem.txt') as file:\n",
    "    contents = file.read()\n",
    "clean_contents = re.sub('['+string.punctuation+']', ' ', contents)\n",
    "clean_contents = clean_contents.replace('\\n', ' ').lower()\n",
    "words = clean_contents.split()\n",
    "print(f'총단어는 {len(words)}개 이고, 고유단어는 {len(set(words))}개입니다.')\n",
    "\n",
    "dic = {}\n",
    "for word in words:\n",
    "    if word in dic.keys():\n",
    "        dic[word] +=1\n",
    "    else:\n",
    "        dic[word] = 1\n",
    "result= sorted(dic.items(), key=lambda x: x[1], reverse=True)\n",
    "print('사용빈도가 높은 단어 top10')\n",
    "for word, count in result[:10]:\n",
    "    print(f'{word}\\t{count}')"
   ]
  },
  {
   "cell_type": "code",
   "execution_count": null,
   "metadata": {},
   "outputs": [],
   "source": []
  }
 ],
 "metadata": {
  "kernelspec": {
   "display_name": "base",
   "language": "python",
   "name": "python3"
  },
  "language_info": {
   "codemirror_mode": {
    "name": "ipython",
    "version": 3
   },
   "file_extension": ".py",
   "mimetype": "text/x-python",
   "name": "python",
   "nbconvert_exporter": "python",
   "pygments_lexer": "ipython3",
   "version": "3.10.9"
  },
  "orig_nbformat": 4
 },
 "nbformat": 4,
 "nbformat_minor": 2
}
