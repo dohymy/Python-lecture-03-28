{
 "cells": [
  {
   "attachments": {},
   "cell_type": "markdown",
   "metadata": {},
   "source": [
    "### 5-3. 파일(File)"
   ]
  },
  {
   "attachments": {},
   "cell_type": "markdown",
   "metadata": {},
   "source": [
    "- 파일에 텍스트 쓰기 'w'"
   ]
  },
  {
   "cell_type": "code",
   "execution_count": 5,
   "metadata": {},
   "outputs": [],
   "source": [
    "# data디렉토리 밑의 basic.txt를 쓰기모드로 오픈\n",
    "file = open('data/basic.txt', 'w')\n",
    "file.write('Hello Python Programming...!!')\n",
    "# 파일 작성한 후 꼭 file.close()한다\n",
    "file.close()"
   ]
  },
  {
   "attachments": {},
   "cell_type": "markdown",
   "metadata": {},
   "source": [
    "- 파이썬 스타일 : with 구문"
   ]
  },
  {
   "cell_type": "code",
   "execution_count": 7,
   "metadata": {},
   "outputs": [],
   "source": [
    "with open('data/basic.txt', 'w') as file:\n",
    "    file.write('Hello World!!!\\n')\n",
    "    file.write('Hello World!!!')\n",
    "# with문이 끝나면 자동으로 close가 적용된다.\n",
    "# 기존 데이터는 사라진다.\n",
    "# 줄바꿈 : \\n "
   ]
  },
  {
   "attachments": {},
   "cell_type": "markdown",
   "metadata": {},
   "source": [
    "- 텍스트 읽기 'r'"
   ]
  },
  {
   "cell_type": "code",
   "execution_count": 8,
   "metadata": {},
   "outputs": [
    {
     "name": "stdout",
     "output_type": "stream",
     "text": [
      "Hello World!!!\n",
      "Hello World!!!\n"
     ]
    }
   ],
   "source": [
    "with open('data/basic.txt','r') as file:\n",
    "    content = file.read()\n",
    "print(content)\n"
   ]
  },
  {
   "cell_type": "code",
   "execution_count": 1,
   "metadata": {},
   "outputs": [
    {
     "name": "stdout",
     "output_type": "stream",
     "text": [
      "Hello World!!!\n",
      "Hello\n"
     ]
    }
   ],
   "source": [
    "# 파일 내 20글자 읽기\n",
    "with open('data/basic.txt', 'r') as file:\n",
    "    content = file.read(20)\n",
    "print(content)"
   ]
  },
  {
   "attachments": {},
   "cell_type": "markdown",
   "metadata": {},
   "source": [
    "- 한글 텍스트 쓰기/읽기"
   ]
  },
  {
   "cell_type": "code",
   "execution_count": 2,
   "metadata": {},
   "outputs": [],
   "source": [
    "# encoding을 지정하지 않으면 자동으로 utf-8로 인코딩됨\n",
    "with open('data/한글.txt', 'w') as file:\n",
    "    file.write('안녕하세요')"
   ]
  },
  {
   "cell_type": "code",
   "execution_count": 3,
   "metadata": {},
   "outputs": [],
   "source": [
    "# EUC-KR로 인코딩\n",
    "with open('data/한글.txt', 'w', encoding='cp949') as file:\n",
    "    file.write('안녕하세요')"
   ]
  },
  {
   "cell_type": "code",
   "execution_count": 4,
   "metadata": {},
   "outputs": [
    {
     "name": "stdout",
     "output_type": "stream",
     "text": [
      "안녕하세요\n"
     ]
    }
   ],
   "source": [
    "# 읽기\n",
    "with open('data/한글.txt', 'r', encoding='cp949') as file:\n",
    "    content = file.read()\n",
    "print(content)"
   ]
  },
  {
   "cell_type": "code",
   "execution_count": 5,
   "metadata": {},
   "outputs": [
    {
     "name": "stdout",
     "output_type": "stream",
     "text": [
      "안녕하\n"
     ]
    }
   ],
   "source": [
    "# 몇 글자만 읽기\n",
    "with open('data/한글.txt', 'r', encoding='cp949') as file:\n",
    "    content = file.read(3)\n",
    "print(content)"
   ]
  },
  {
   "attachments": {},
   "cell_type": "markdown",
   "metadata": {},
   "source": [
    "- 여러줄 읽기/쓰기"
   ]
  },
  {
   "cell_type": "code",
   "execution_count": 6,
   "metadata": {},
   "outputs": [],
   "source": [
    "# writelines : 리스트 등의 여러 객체를 쭉 써준다\n",
    "fruits = ['apple','banana','cherry']\n",
    "with open('data/fruits.txt','w') as file:\n",
    "    file.writelines(fruits)"
   ]
  },
  {
   "cell_type": "code",
   "execution_count": 7,
   "metadata": {},
   "outputs": [],
   "source": [
    "# 여러 줄로 쓰는 방법\n",
    "# 객체들 뒤에 \\n(라인 피드)를 붙여준다\n",
    "fruits = ['apple','banana','cherry']\n",
    "with open('data/fruits.txt','w') as file:\n",
    "    file.writelines(list(map(lambda x : x+'\\n', fruits)))"
   ]
  },
  {
   "cell_type": "code",
   "execution_count": 10,
   "metadata": {},
   "outputs": [
    {
     "name": "stdout",
     "output_type": "stream",
     "text": [
      "['apple\\n', 'banana\\n', 'cherry\\n']\n"
     ]
    }
   ],
   "source": [
    "# 여러 줄 읽는 법\n",
    "with open('data/fruits.txt') as file:\n",
    "    lines = file.readlines()\n",
    "print(lines)"
   ]
  },
  {
   "cell_type": "code",
   "execution_count": 11,
   "metadata": {},
   "outputs": [
    {
     "name": "stdout",
     "output_type": "stream",
     "text": [
      "apple\n",
      "banana\n",
      "cherry\n"
     ]
    }
   ],
   "source": [
    "# 줄 단위로 작업을 하려면\n",
    "for line in lines:\n",
    "    print(line[:-1])"
   ]
  },
  {
   "attachments": {},
   "cell_type": "markdown",
   "metadata": {},
   "source": [
    "- append 모드 'a'"
   ]
  },
  {
   "cell_type": "code",
   "execution_count": 12,
   "metadata": {},
   "outputs": [],
   "source": [
    "with open('data/fruits.txt','a') as file:\n",
    "    file.write('strawberry\\n')\n",
    "    file.write('melon\\n')"
   ]
  },
  {
   "attachments": {},
   "cell_type": "markdown",
   "metadata": {},
   "source": [
    "- github에 올리지 않고 파일의 데이터를 이용하여 작업하기"
   ]
  },
  {
   "cell_type": "code",
   "execution_count": null,
   "metadata": {},
   "outputs": [],
   "source": [
    "# .gitignore 파일에 password.txt 추가\n",
    "password = 'password'\n",
    "with open('data/password.txt') as file:\n",
    "    password = file.read()\n",
    "# 이후 password를 이용하여 API 이용하는 코드를 작성한다.\n",
    "# password를 github에 노출하지 않고 이용할 수 있음."
   ]
  },
  {
   "attachments": {},
   "cell_type": "markdown",
   "metadata": {},
   "source": [
    "- 파이썬 객체 저장/로드 - binary 파일 이용\n",
    "    - rb / wb : binary에 r과 w를 사용"
   ]
  },
  {
   "cell_type": "code",
   "execution_count": 15,
   "metadata": {},
   "outputs": [],
   "source": [
    "import pickle\n",
    "\n",
    "person = {'name': 'James', 'age': 25, 'address': '경기도 장안구 영화동'}\n",
    "\n",
    "with open('data/person.pkl','wb') as file:\n",
    "    pickle.dump(person, file)"
   ]
  },
  {
   "cell_type": "code",
   "execution_count": 16,
   "metadata": {},
   "outputs": [
    {
     "data": {
      "text/plain": [
       "{'name': 'James', 'age': 25, 'address': '경기도 장안구 영화동'}"
      ]
     },
     "execution_count": 16,
     "metadata": {},
     "output_type": "execute_result"
    }
   ],
   "source": [
    "with open('data/person.pkl', 'rb') as file:\n",
    "    james = pickle.load(file)\n",
    "james"
   ]
  },
  {
   "cell_type": "code",
   "execution_count": 17,
   "metadata": {},
   "outputs": [
    {
     "data": {
      "text/plain": [
       "{'name': 'James', 'age': 25, 'address': '경기도 장안구 영화동'}"
      ]
     },
     "execution_count": 17,
     "metadata": {},
     "output_type": "execute_result"
    }
   ],
   "source": [
    "# 파일 오픈이 필요 없는 라이브러리\n",
    "import joblib\n",
    "\n",
    "joblib.dump(person, 'data/person.jl')\n",
    "james = joblib.load('data/person.jl')\n",
    "james"
   ]
  },
  {
   "cell_type": "code",
   "execution_count": null,
   "metadata": {},
   "outputs": [],
   "source": []
  }
 ],
 "metadata": {
  "kernelspec": {
   "display_name": "base",
   "language": "python",
   "name": "python3"
  },
  "language_info": {
   "codemirror_mode": {
    "name": "ipython",
    "version": 3
   },
   "file_extension": ".py",
   "mimetype": "text/x-python",
   "name": "python",
   "nbconvert_exporter": "python",
   "pygments_lexer": "ipython3",
   "version": "3.10.9"
  },
  "orig_nbformat": 4
 },
 "nbformat": 4,
 "nbformat_minor": 2
}
