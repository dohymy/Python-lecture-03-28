{
 "cells": [
  {
   "attachments": {},
   "cell_type": "markdown",
   "metadata": {},
   "source": [
    "### 8-1. 클래스의 기본"
   ]
  },
  {
   "attachments": {},
   "cell_type": "markdown",
   "metadata": {},
   "source": [
    "- person 자료형 만들기\n"
   ]
  },
  {
   "cell_type": "code",
   "execution_count": 2,
   "metadata": {},
   "outputs": [],
   "source": [
    "# 리스트로 만들기\n",
    "person_list = ['James', 175.0, 70.0, 2000]"
   ]
  },
  {
   "cell_type": "code",
   "execution_count": 3,
   "metadata": {},
   "outputs": [],
   "source": [
    "# 딕셔너리로 만들기\n",
    "person_dict = {\n",
    "    'name' : 'James', 'height' : 175.0, 'weight' : 70.0, 'birth_year' : 2000\n",
    "    }"
   ]
  },
  {
   "cell_type": "code",
   "execution_count": 4,
   "metadata": {},
   "outputs": [],
   "source": [
    "# 클래스로 만들기\n",
    "# 클래스의 첫글자는 대문자로 사용\n",
    "class Person :\n",
    "    def __init__(self):\n",
    "        self.name = 'James'\n",
    "        self.height = 175.0\n",
    "        self.weight = 70.0\n",
    "        self.birth_year = 2000"
   ]
  },
  {
   "cell_type": "code",
   "execution_count": 5,
   "metadata": {},
   "outputs": [
    {
     "name": "stdout",
     "output_type": "stream",
     "text": [
      "['James', 175.0, 70.0, 2000]\n",
      "{'name': 'James', 'height': 175.0, 'weight': 70.0, 'birth_year': 2000}\n"
     ]
    }
   ],
   "source": [
    "# 리스트와 딕셔너리의 출력\n",
    "print(person_list)\n",
    "print(person_dict)"
   ]
  },
  {
   "cell_type": "code",
   "execution_count": 6,
   "metadata": {},
   "outputs": [
    {
     "name": "stdout",
     "output_type": "stream",
     "text": [
      "James 175.0 70.0 2000\n"
     ]
    }
   ],
   "source": [
    "# 클래스의 출력\n",
    "james = Person()\n",
    "print(james.name, james.height, james.weight, james.birth_year)"
   ]
  },
  {
   "attachments": {},
   "cell_type": "markdown",
   "metadata": {},
   "source": [
    "- 위 방법들은 한 개씩 넣어야해서 불편하다"
   ]
  },
  {
   "cell_type": "code",
   "execution_count": 7,
   "metadata": {},
   "outputs": [],
   "source": [
    "# 범용적으로 만드는 법 (틀을 짜는 법)\n",
    "# 객체를 생성할 때 구체적인 값을 할당\n",
    "# self의 위치는 무조건 처음으로 고정\n",
    "class Person :\n",
    "    def __init__(self, name, height, weight, birth_year): # 속성과 변수명을 일치\n",
    "        self.name = name\n",
    "        self.height = height\n",
    "        self.weight = weight\n",
    "        self.birth_year = birth_year"
   ]
  },
  {
   "cell_type": "code",
   "execution_count": 8,
   "metadata": {},
   "outputs": [],
   "source": [
    "# 틀에 내용을 넣는 법\n",
    "# 인스턴스\n",
    "james = Person('james', 175.0, 70.0, 2000)\n",
    "maria = Person('Maria', 163.0, 50.0, 2001)"
   ]
  },
  {
   "attachments": {},
   "cell_type": "markdown",
   "metadata": {},
   "source": [
    "- 메소드\n",
    "    - 클래스가 가진 함수\n",
    "    - 객체가 할 수 있는 행위를 모델링"
   ]
  },
  {
   "cell_type": "code",
   "execution_count": 9,
   "metadata": {},
   "outputs": [],
   "source": [
    "import datetime as dt\n",
    "\n",
    "class Person :\n",
    "    def __init__(self, name, height, weight, birth_year):\n",
    "        self.name = name\n",
    "        self.height = height\n",
    "        self.weight = weight\n",
    "        self.birth_year = birth_year\n",
    "    def get_bmi(self):\n",
    "        bmi = self.weight / (self.height / 100) **2\n",
    "        return round(bmi, 2)            # 소숫점 둘째자리까지 표시\n",
    "    def get_age(self):\n",
    "        now = dt.date.today()\n",
    "        return now.year - self.birth_year\n",
    "    def get_info(self):\n",
    "        return f'이름 : {self.name}, 키 : {self.height}cm, 몸무게 : {self.weight}kg, ' + \\\n",
    "               f'BMI : {self.get_bmi()}, 나이 : {self.get_age()}'"
   ]
  },
  {
   "cell_type": "code",
   "execution_count": 10,
   "metadata": {},
   "outputs": [],
   "source": [
    "james = Person('james', 175.0, 70.0, 2000)\n",
    "maria = Person('Maria', 163.0, 50.0, 2001)"
   ]
  },
  {
   "cell_type": "code",
   "execution_count": 11,
   "metadata": {},
   "outputs": [
    {
     "name": "stdout",
     "output_type": "stream",
     "text": [
      "james의 BMI는 22.86입니다.\n",
      "Maria의 BMI는 18.82입니다.\n"
     ]
    }
   ],
   "source": [
    "print(f'{james.name}의 BMI는 {james.get_bmi()}입니다.')\n",
    "print(f'{maria.name}의 BMI는 {maria.get_bmi()}입니다.')"
   ]
  },
  {
   "cell_type": "code",
   "execution_count": 12,
   "metadata": {},
   "outputs": [
    {
     "name": "stdout",
     "output_type": "stream",
     "text": [
      "james의 나이는 23입니다.\n",
      "Maria의 나이는 22입니다.\n"
     ]
    }
   ],
   "source": [
    "print(f'{james.name}의 나이는 {james.get_age()}입니다.')\n",
    "print(f'{maria.name}의 나이는 {maria.get_age()}입니다.')"
   ]
  },
  {
   "cell_type": "code",
   "execution_count": 13,
   "metadata": {},
   "outputs": [
    {
     "name": "stdout",
     "output_type": "stream",
     "text": [
      "이름 : james, 키 : 175.0cm, 몸무게 : 70.0kg, BMI : 22.86, 나이 : 23\n",
      "이름 : Maria, 키 : 163.0cm, 몸무게 : 50.0kg, BMI : 18.82, 나이 : 22\n"
     ]
    }
   ],
   "source": [
    "print(james.get_info())\n",
    "print(maria.get_info())"
   ]
  },
  {
   "cell_type": "code",
   "execution_count": 14,
   "metadata": {},
   "outputs": [
    {
     "name": "stdout",
     "output_type": "stream",
     "text": [
      "이름 : Maria, 키 : 163.0cm, 몸무게 : 48.0kg, BMI : 18.07, 나이 : 22\n"
     ]
    }
   ],
   "source": [
    "# 객체의 속성\n",
    "maria.weight -= 2\n",
    "print(maria.get_info())"
   ]
  },
  {
   "attachments": {},
   "cell_type": "markdown",
   "metadata": {},
   "source": [
    "- 연습문제\n",
    "    - 속성으로 나이와 잔액\n",
    "    - pay()\n",
    "        - 00살의 요금은 000원이고, 잔액은 000원입니다.\n",
    "        - 잔액이 부족합니다."
   ]
  },
  {
   "cell_type": "code",
   "execution_count": 15,
   "metadata": {},
   "outputs": [],
   "source": [
    "class Tmoney :\n",
    "    def __init__(self, age, balance):\n",
    "        self.age = age\n",
    "        self.balance = balance\n",
    "    def pay(self):\n",
    "        if 7 <= self.age <= 12:\n",
    "            fare = 650\n",
    "        elif 13<=self.age<=18:\n",
    "            fare = 1050\n",
    "        elif self.age >= 19:\n",
    "            fare = 1250\n",
    "        else:\n",
    "            fare = 0\n",
    "        \n",
    "        if self.balance < fare:\n",
    "            print('잔액이 부족합니다.')\n",
    "            return\n",
    "        self.balance -= fare\n",
    "        print(f'{self.age}의 요금은 {fare:,d}원이고, 잔액은 {self.balance:,d}원입니다.')\n",
    "    \n",
    "    def charge(self, amount):\n",
    "        self.balance += amount\n",
    "        print(f'{amount:,d}원을 충전하였고, 잔액은 {self.balance:,d}원입니다.')"
   ]
  },
  {
   "cell_type": "code",
   "execution_count": 16,
   "metadata": {},
   "outputs": [
    {
     "name": "stdout",
     "output_type": "stream",
     "text": [
      "15의 요금은 1,050원이고, 잔액은 8,950원입니다.\n",
      "15의 요금은 1,050원이고, 잔액은 7,900원입니다.\n",
      "15의 요금은 1,050원이고, 잔액은 6,850원입니다.\n",
      "15의 요금은 1,050원이고, 잔액은 5,800원입니다.\n",
      "15의 요금은 1,050원이고, 잔액은 4,750원입니다.\n",
      "15의 요금은 1,050원이고, 잔액은 3,700원입니다.\n",
      "15의 요금은 1,050원이고, 잔액은 2,650원입니다.\n",
      "15의 요금은 1,050원이고, 잔액은 1,600원입니다.\n",
      "15의 요금은 1,050원이고, 잔액은 550원입니다.\n",
      "잔액이 부족합니다.\n"
     ]
    }
   ],
   "source": [
    "card = Tmoney(15, 10000)\n",
    "for i in range(10):\n",
    "    card.pay()"
   ]
  },
  {
   "cell_type": "code",
   "execution_count": 17,
   "metadata": {},
   "outputs": [
    {
     "name": "stdout",
     "output_type": "stream",
     "text": [
      "10,000원을 충전하였고, 잔액은 10,550원입니다.\n"
     ]
    }
   ],
   "source": [
    "card.charge(10000)"
   ]
  },
  {
   "cell_type": "code",
   "execution_count": 20,
   "metadata": {},
   "outputs": [
    {
     "name": "stdout",
     "output_type": "stream",
     "text": [
      "티버 : 피해량 465.0\n"
     ]
    }
   ],
   "source": [
    "class Annie:\n",
    "    def __init__(self, health, mana, ability_power):\n",
    "        self.health = health\n",
    "        self.mana = mana\n",
    "        self.ability_power = ability_power\n",
    "    def tibbers(self):\n",
    "        print(f'티버 : 피해량 {self.ability_power * 0.65 + 400}')\n",
    "\n",
    "health, mana, ability_power = map(float, input().split())\n",
    " \n",
    "x = Annie(health=health, mana=mana, ability_power=ability_power)\n",
    "x.tibbers()"
   ]
  },
  {
   "cell_type": "code",
   "execution_count": null,
   "metadata": {},
   "outputs": [],
   "source": []
  }
 ],
 "metadata": {
  "kernelspec": {
   "display_name": "base",
   "language": "python",
   "name": "python3"
  },
  "language_info": {
   "codemirror_mode": {
    "name": "ipython",
    "version": 3
   },
   "file_extension": ".py",
   "mimetype": "text/x-python",
   "name": "python",
   "nbconvert_exporter": "python",
   "pygments_lexer": "ipython3",
   "version": "3.10.10"
  },
  "orig_nbformat": 4
 },
 "nbformat": 4,
 "nbformat_minor": 2
}
