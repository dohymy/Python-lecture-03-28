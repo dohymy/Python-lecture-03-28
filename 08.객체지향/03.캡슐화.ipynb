{
 "cells": [
  {
   "attachments": {},
   "cell_type": "markdown",
   "metadata": {},
   "source": [
    "### 8-2. 캡슐화(Encapsulation)"
   ]
  },
  {
   "cell_type": "code",
   "execution_count": 27,
   "metadata": {},
   "outputs": [],
   "source": [
    "# 속성값에 __를 붙이면 비공개 속성이 된다\n",
    "# 혹시 생길 수 있는 오류를 방지\n",
    "# 비공개 속성에 액세스하기 위해 Getter/Setter를 사용"
   ]
  },
  {
   "cell_type": "code",
   "execution_count": 28,
   "metadata": {},
   "outputs": [],
   "source": [
    "# balance를 비공개화\n",
    "class Tmoney :\n",
    "    def __init__(self, age, balance):\n",
    "        self.age = age\n",
    "        self.__balance = balance\n",
    "    def pay(self):\n",
    "        if 7 <= self.age <= 12:\n",
    "            fare = 650\n",
    "        elif 13<=self.age<=18:\n",
    "            fare = 1050\n",
    "        elif self.age >= 19:\n",
    "            fare = 1250\n",
    "        else:\n",
    "            fare = 0\n",
    "        \n",
    "        if self.__balance < fare:\n",
    "            print('잔액이 부족합니다.')\n",
    "            return\n",
    "        self.__balance -= fare\n",
    "        print(f'{self.age}의 요금은 {fare:,d}원이고, 잔액은 {self.__balance:,d}원입니다.')\n",
    "    \n",
    "    def charge(self, amount):\n",
    "        self.__balance += amount\n",
    "        print(f'{amount:,d}원을 충전하였고, 잔액은 {self.__balance:,d}원입니다.')"
   ]
  },
  {
   "cell_type": "code",
   "execution_count": 29,
   "metadata": {},
   "outputs": [
    {
     "data": {
      "text/plain": [
       "15"
      ]
     },
     "execution_count": 29,
     "metadata": {},
     "output_type": "execute_result"
    }
   ],
   "source": [
    "tmoney = Tmoney(15,10000)\n",
    "tmoney.age"
   ]
  },
  {
   "cell_type": "code",
   "execution_count": 30,
   "metadata": {},
   "outputs": [
    {
     "ename": "AttributeError",
     "evalue": "'Tmoney' object has no attribute 'balance'",
     "output_type": "error",
     "traceback": [
      "\u001b[1;31m---------------------------------------------------------------------------\u001b[0m",
      "\u001b[1;31mAttributeError\u001b[0m                            Traceback (most recent call last)",
      "Cell \u001b[1;32mIn[30], line 2\u001b[0m\n\u001b[0;32m      1\u001b[0m \u001b[39m# 비공개라 값이 나오지 않는다.\u001b[39;00m\n\u001b[1;32m----> 2\u001b[0m tmoney\u001b[39m.\u001b[39;49mbalance\n",
      "\u001b[1;31mAttributeError\u001b[0m: 'Tmoney' object has no attribute 'balance'"
     ]
    }
   ],
   "source": [
    "# 비공개라 값이 나오지 않는다.\n",
    "tmoney.balance"
   ]
  },
  {
   "cell_type": "code",
   "execution_count": null,
   "metadata": {},
   "outputs": [
    {
     "ename": "AttributeError",
     "evalue": "'Tmoney' object has no attribute '__balance'",
     "output_type": "error",
     "traceback": [
      "\u001b[1;31m---------------------------------------------------------------------------\u001b[0m",
      "\u001b[1;31mAttributeError\u001b[0m                            Traceback (most recent call last)",
      "Cell \u001b[1;32mIn[4], line 1\u001b[0m\n\u001b[1;32m----> 1\u001b[0m tmoney\u001b[39m.\u001b[39;49m__balance\n",
      "\u001b[1;31mAttributeError\u001b[0m: 'Tmoney' object has no attribute '__balance'"
     ]
    }
   ],
   "source": [
    "# __를 써도 안나온다.\n",
    "tmoney.__balance"
   ]
  },
  {
   "cell_type": "code",
   "execution_count": null,
   "metadata": {},
   "outputs": [
    {
     "ename": "AttributeError",
     "evalue": "'Tmoney' object has no attribute 'balance'",
     "output_type": "error",
     "traceback": [
      "\u001b[1;31m---------------------------------------------------------------------------\u001b[0m",
      "\u001b[1;31mAttributeError\u001b[0m                            Traceback (most recent call last)",
      "Cell \u001b[1;32mIn[9], line 2\u001b[0m\n\u001b[0;32m      1\u001b[0m \u001b[39mfor\u001b[39;00m _ \u001b[39min\u001b[39;00m \u001b[39mrange\u001b[39m(\u001b[39m10\u001b[39m):\n\u001b[1;32m----> 2\u001b[0m     tmoney\u001b[39m.\u001b[39;49mpay()\n",
      "Cell \u001b[1;32mIn[1], line 15\u001b[0m, in \u001b[0;36mTmoney.pay\u001b[1;34m(self)\u001b[0m\n\u001b[0;32m     12\u001b[0m \u001b[39melse\u001b[39;00m:\n\u001b[0;32m     13\u001b[0m     fare \u001b[39m=\u001b[39m \u001b[39m0\u001b[39m\n\u001b[1;32m---> 15\u001b[0m \u001b[39mif\u001b[39;00m \u001b[39mself\u001b[39;49m\u001b[39m.\u001b[39;49mbalance \u001b[39m<\u001b[39m fare:\n\u001b[0;32m     16\u001b[0m     \u001b[39mprint\u001b[39m(\u001b[39m'\u001b[39m\u001b[39m잔액이 부족합니다.\u001b[39m\u001b[39m'\u001b[39m)\n\u001b[0;32m     17\u001b[0m     \u001b[39mreturn\u001b[39;00m\n",
      "\u001b[1;31mAttributeError\u001b[0m: 'Tmoney' object has no attribute 'balance'"
     ]
    }
   ],
   "source": [
    "for _ in range(10):\n",
    "    tmoney.pay()"
   ]
  },
  {
   "attachments": {},
   "cell_type": "markdown",
   "metadata": {},
   "source": [
    "- 연습문제\n",
    "    - 이름, 나이, 지갑(wallet)을 속성으로 갖는 Person 클래스\n",
    "    - 지갑은 비공개 속성으로 할 것\n",
    "    - __str__ 메소드를 만들어서 이름, 나이, 지갑(wallet)을 출력"
   ]
  },
  {
   "cell_type": "code",
   "execution_count": 42,
   "metadata": {},
   "outputs": [],
   "source": [
    "class Person:\n",
    "    def __init__(self, name, age, addr, wallet) :\n",
    "        self.name = name\n",
    "        self.age = age\n",
    "        self.addr = addr\n",
    "        self.__wallet = wallet\n",
    "\n",
    "    def __str__(self):\n",
    "        return f'이름 : {self.name}, 나이 : {self.age}, 주소 : {self.addr}, 지갑 : {self.__wallet}원'"
   ]
  },
  {
   "cell_type": "code",
   "execution_count": 4,
   "metadata": {},
   "outputs": [
    {
     "name": "stdout",
     "output_type": "stream",
     "text": [
      "이름 : James, 나이 : 25, 주소 : 수원, 지갑 : 5000원\n"
     ]
    }
   ],
   "source": [
    "james = Person('James', 25, '수원', 5000)\n",
    "print(james.__str__())"
   ]
  },
  {
   "cell_type": "code",
   "execution_count": 39,
   "metadata": {},
   "outputs": [
    {
     "ename": "AttributeError",
     "evalue": "type object 'Person' has no attribute 'wallet'",
     "output_type": "error",
     "traceback": [
      "\u001b[1;31m---------------------------------------------------------------------------\u001b[0m",
      "\u001b[1;31mAttributeError\u001b[0m                            Traceback (most recent call last)",
      "Cell \u001b[1;32mIn[39], line 1\u001b[0m\n\u001b[1;32m----> 1\u001b[0m Person\u001b[39m.\u001b[39;49mwallet\n",
      "\u001b[1;31mAttributeError\u001b[0m: type object 'Person' has no attribute 'wallet'"
     ]
    }
   ],
   "source": [
    "Person.wallet"
   ]
  },
  {
   "attachments": {},
   "cell_type": "markdown",
   "metadata": {},
   "source": [
    "- getter/setter"
   ]
  },
  {
   "cell_type": "code",
   "execution_count": 1,
   "metadata": {},
   "outputs": [],
   "source": [
    "class Person:\n",
    "    def __init__(self, name, age, addr, wallet) :\n",
    "        self.name = name\n",
    "        self.age = age\n",
    "        self.addr = addr\n",
    "        self.__wallet = wallet\n",
    "\n",
    "    def __str__(self):\n",
    "        return f'이름 : {self.name}, 나이 : {self.age}, 주소 : {self.addr}, 지갑 : {self.__wallet}원'\n",
    "    \n",
    "    def get_wallet(self):\n",
    "        return self.__wallet\n",
    "    \n",
    "    def set_wallet(self, wallet):\n",
    "        self.__wallet = wallet"
   ]
  },
  {
   "cell_type": "code",
   "execution_count": 2,
   "metadata": {},
   "outputs": [
    {
     "name": "stdout",
     "output_type": "stream",
     "text": [
      "5000\n"
     ]
    }
   ],
   "source": [
    "james = Person('James', 25, '수원', 5000)\n",
    "print(james.get_wallet())"
   ]
  },
  {
   "cell_type": "code",
   "execution_count": 3,
   "metadata": {},
   "outputs": [
    {
     "name": "stdout",
     "output_type": "stream",
     "text": [
      "30000\n"
     ]
    }
   ],
   "source": [
    "james.set_wallet(30000)\n",
    "print(james.get_wallet())"
   ]
  },
  {
   "attachments": {},
   "cell_type": "markdown",
   "metadata": {},
   "source": [
    "- 비공개 메소드"
   ]
  },
  {
   "cell_type": "code",
   "execution_count": 49,
   "metadata": {},
   "outputs": [],
   "source": [
    "# greeting을 감추기\n",
    "class Worker:\n",
    "    def __greeting(self):\n",
    "        print('__greeting(): 안녕하세요')"
   ]
  },
  {
   "cell_type": "code",
   "execution_count": 50,
   "metadata": {},
   "outputs": [
    {
     "ename": "AttributeError",
     "evalue": "'Worker' object has no attribute '__greeting'",
     "output_type": "error",
     "traceback": [
      "\u001b[1;31m---------------------------------------------------------------------------\u001b[0m",
      "\u001b[1;31mAttributeError\u001b[0m                            Traceback (most recent call last)",
      "Cell \u001b[1;32mIn[50], line 2\u001b[0m\n\u001b[0;32m      1\u001b[0m worker \u001b[39m=\u001b[39m Worker()\n\u001b[1;32m----> 2\u001b[0m worker\u001b[39m.\u001b[39;49m__greeting()\n",
      "\u001b[1;31mAttributeError\u001b[0m: 'Worker' object has no attribute '__greeting'"
     ]
    }
   ],
   "source": [
    "# 외부에서 호출하면 오류 발생\n",
    "worker = Worker()\n",
    "worker.__greeting()"
   ]
  },
  {
   "cell_type": "code",
   "execution_count": 51,
   "metadata": {},
   "outputs": [],
   "source": [
    "# 내부에서 __greeting을 불러오기\n",
    "class Worker:\n",
    "    def __greeting(self):\n",
    "        print('__greeting(): 안녕하세요')\n",
    "    def hello(self):\n",
    "        self.__greeting()"
   ]
  },
  {
   "cell_type": "code",
   "execution_count": 52,
   "metadata": {},
   "outputs": [
    {
     "name": "stdout",
     "output_type": "stream",
     "text": [
      "__greeting(): 안녕하세요\n"
     ]
    }
   ],
   "source": [
    "worker = Worker()\n",
    "worker.hello()"
   ]
  },
  {
   "cell_type": "code",
   "execution_count": null,
   "metadata": {},
   "outputs": [],
   "source": []
  }
 ],
 "metadata": {
  "kernelspec": {
   "display_name": "base",
   "language": "python",
   "name": "python3"
  },
  "language_info": {
   "codemirror_mode": {
    "name": "ipython",
    "version": 3
   },
   "file_extension": ".py",
   "mimetype": "text/x-python",
   "name": "python",
   "nbconvert_exporter": "python",
   "pygments_lexer": "ipython3",
   "version": "3.10.10"
  },
  "orig_nbformat": 4
 },
 "nbformat": 4,
 "nbformat_minor": 2
}
