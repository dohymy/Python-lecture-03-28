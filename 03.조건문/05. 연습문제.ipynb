{
 "cells": [
  {
   "attachments": {},
   "cell_type": "markdown",
   "metadata": {},
   "source": [
    "- Q.1 생일을 입력으로 받아 오늘 현재의 만 나이를 계산하고, 띠를 알려주세요."
   ]
  },
  {
   "cell_type": "code",
   "execution_count": 20,
   "metadata": {},
   "outputs": [],
   "source": [
    "# 생년월일 입력\n",
    "b_year, b_month, b_day = map(int, input('생년월일 입력').split())  "
   ]
  },
  {
   "cell_type": "code",
   "execution_count": 21,
   "metadata": {},
   "outputs": [],
   "source": [
    "# 오늘 날짜 구하기\n",
    "import datetime\n",
    "now = datetime.datetime.now()"
   ]
  },
  {
   "cell_type": "code",
   "execution_count": 22,
   "metadata": {},
   "outputs": [],
   "source": [
    "# 오늘 날짜에서 생년월일 빼기\n",
    "if now.month > b_month :\n",
    "    age = now.year - b_year\n",
    "elif now.month < b_month :\n",
    "    age = now.year - b_year - 1\n",
    "else :\n",
    "    if now.day >= b_day :\n",
    "        age = now.year - b_year\n",
    "    else:\n",
    "        age = now.year - b_year - 1"
   ]
  },
  {
   "cell_type": "code",
   "execution_count": 23,
   "metadata": {},
   "outputs": [
    {
     "name": "stdout",
     "output_type": "stream",
     "text": [
      "유\n"
     ]
    }
   ],
   "source": [
    "# 띠 계산하기\n",
    "# 생년을 12로 나눈 나머지에 따라\n",
    "# 방법 1\n",
    "animals1 = '신유술해자축인묘진사오미'\n",
    "print(animals1[b_year % 12])"
   ]
  },
  {
   "cell_type": "code",
   "execution_count": 24,
   "metadata": {},
   "outputs": [
    {
     "name": "stdout",
     "output_type": "stream",
     "text": [
      "닭\n"
     ]
    }
   ],
   "source": [
    "# 방법 2\n",
    "animals2 = '원숭이 닭 개 돼지 쥐 소 호랑이 토끼 용 뱀 말 양'.split()\n",
    "ddi = print(animals2[b_year % 12])"
   ]
  },
  {
   "cell_type": "code",
   "execution_count": 25,
   "metadata": {},
   "outputs": [
    {
     "name": "stdout",
     "output_type": "stream",
     "text": [
      "만 나이는 29세이고 None띠입니다.\n"
     ]
    }
   ],
   "source": [
    "# 결과보기\n",
    "print(f'만 나이는 {age}세이고 {ddi}띠입니다.')"
   ]
  },
  {
   "attachments": {},
   "cell_type": "markdown",
   "metadata": {},
   "source": [
    "- Q.2 FizzBuzz, \n",
    "\n",
    "15로 나누어 떨어지면 FizzBuzz, \n",
    "\n",
    "3으로 나누어떨어지면 Fizz, \n",
    "\n",
    "5로 나누어 떨어지면 Buzz\n",
    "\n",
    "아니면 숫자"
   ]
  },
  {
   "cell_type": "code",
   "execution_count": 8,
   "metadata": {},
   "outputs": [
    {
     "name": "stdout",
     "output_type": "stream",
     "text": [
      "숫자 : 15, 결과 : FizzBuzz\n"
     ]
    }
   ],
   "source": [
    "num = int(input('양의 정수> '))\n",
    "\n",
    "if num % 15 == 0 :\n",
    "    result = 'FizzBuzz'\n",
    "elif num % 3 == 0 :\n",
    "    result = 'Fizz'\n",
    "elif num % 5 == 0 :\n",
    "    result = 'Buzz'\n",
    "else:\n",
    "    result = num\n",
    "print(f'숫자 : {num}, 결과 : {result}')"
   ]
  },
  {
   "cell_type": "code",
   "execution_count": 9,
   "metadata": {},
   "outputs": [
    {
     "name": "stdout",
     "output_type": "stream",
     "text": [
      "15 FizzBuzz\n"
     ]
    }
   ],
   "source": [
    "# 신박한 방법\n",
    "# short-curcuit rule\n",
    "# a or b를 뒀을 때 a가 true면 b를 실행안함, a가 false면 b를 실행함\n",
    "num = int(input('양의 정수> '))\n",
    "print(num, 'Fizz'*(num%3==0) + 'Buzz'*(num%5==0) or num)"
   ]
  },
  {
   "cell_type": "code",
   "execution_count": null,
   "metadata": {},
   "outputs": [],
   "source": []
  }
 ],
 "metadata": {
  "kernelspec": {
   "display_name": "base",
   "language": "python",
   "name": "python3"
  },
  "language_info": {
   "codemirror_mode": {
    "name": "ipython",
    "version": 3
   },
   "file_extension": ".py",
   "mimetype": "text/x-python",
   "name": "python",
   "nbconvert_exporter": "python",
   "pygments_lexer": "ipython3",
   "version": "3.10.9"
  },
  "orig_nbformat": 4
 },
 "nbformat": 4,
 "nbformat_minor": 2
}
