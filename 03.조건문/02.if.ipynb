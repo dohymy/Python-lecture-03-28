{
 "cells": [
  {
   "attachments": {},
   "cell_type": "markdown",
   "metadata": {},
   "source": [
    "##### 3-1 if조건문"
   ]
  },
  {
   "attachments": {},
   "cell_type": "markdown",
   "metadata": {},
   "source": [
    "if 조건식 :\n",
    "    결과\n",
    "\n",
    "else : 결과\n",
    "\n",
    "JS에서 \n",
    "\n",
    "if (조건식){\n",
    "    결과\n",
    "}\n",
    "\n",
    "else {\n",
    "    결과\n",
    "}\n",
    "\n",
    "인 것에서\n",
    "\n",
    "조건식의 ( )가 빠지고\n",
    "\n",
    "{ }가 :으로 대체된 형태"
   ]
  },
  {
   "cell_type": "code",
   "execution_count": 10,
   "metadata": {},
   "outputs": [
    {
     "name": "stdout",
     "output_type": "stream",
     "text": [
      "-1\n"
     ]
    }
   ],
   "source": [
    "num = int(input('정수 입력> '))\n",
    "print(num)"
   ]
  },
  {
   "cell_type": "code",
   "execution_count": 11,
   "metadata": {},
   "outputs": [],
   "source": [
    "if num > 0:\n",
    "    print(f'{num}은 양수입니다.')"
   ]
  },
  {
   "cell_type": "code",
   "execution_count": 12,
   "metadata": {},
   "outputs": [
    {
     "name": "stdout",
     "output_type": "stream",
     "text": [
      "-1은 음수입니다.\n"
     ]
    }
   ],
   "source": [
    "if num < 0 :\n",
    "    print(f'{num}은 음수입니다.')"
   ]
  },
  {
   "cell_type": "code",
   "execution_count": 13,
   "metadata": {},
   "outputs": [],
   "source": [
    "if num == 0 :\n",
    "    print('0입니다.')"
   ]
  },
  {
   "cell_type": "markdown",
   "metadata": {},
   "source": [
    "- 날짜/시간 관련"
   ]
  },
  {
   "cell_type": "code",
   "execution_count": 15,
   "metadata": {},
   "outputs": [
    {
     "data": {
      "text/plain": [
       "datetime.datetime(2023, 3, 30, 10, 28, 3, 548015)"
      ]
     },
     "execution_count": 15,
     "metadata": {},
     "output_type": "execute_result"
    }
   ],
   "source": [
    "import datetime\n",
    "datetime.datetime.now()"
   ]
  },
  {
   "cell_type": "code",
   "execution_count": 16,
   "metadata": {},
   "outputs": [
    {
     "data": {
      "text/plain": [
       "'2023-03-30 10:30:54'"
      ]
     },
     "execution_count": 16,
     "metadata": {},
     "output_type": "execute_result"
    }
   ],
   "source": [
    "# 현재시간을 2023-03-30 10:27:51의 형태로 써보자\n",
    "now = datetime.datetime.now()\n",
    "f'{now.year}-{now.month:02d}-{now.day:02d} {now.hour:02d}:{now.minute:02d}:{now.second:02d}'"
   ]
  },
  {
   "cell_type": "code",
   "execution_count": 17,
   "metadata": {},
   "outputs": [
    {
     "name": "stdout",
     "output_type": "stream",
     "text": [
      "현재 시간은 10시로 오전입니다.\n"
     ]
    }
   ],
   "source": [
    "# 현재 시간이 오전/오후인지 구분하기\n",
    "now = datetime.datetime.now()\n",
    "if now.hour < 12:\n",
    "    print(f'현재 시간은 {now.hour}시로 오전입니다.')\n",
    "else : \n",
    "    print(f'현재 시간은 {now.hour}시로 오후입니다.')"
   ]
  },
  {
   "cell_type": "code",
   "execution_count": 18,
   "metadata": {},
   "outputs": [
    {
     "name": "stdout",
     "output_type": "stream",
     "text": [
      "3월은 봄입니다.\n"
     ]
    }
   ],
   "source": [
    "# 계절 구분\n",
    "# 12~2월 : 겨울 / 3~5월 : 봄 / 6~8월 : 여름 / 9~11 : 가을\n",
    "if 3 <= now.month <= 5 :\n",
    "    print(f'{now.month}월은 봄입니다.')\n",
    "if 6 <= now.month <= 8 :\n",
    "    print(f'{now.month}월은 여름입니다.')\n",
    "if 9 <= now.month <= 11 :\n",
    "    print(f'{now.month}월은 가을입니다.')\n",
    "if now.month >=12 or now.month <= 2 :\n",
    "    print(f'{now.month}월은 겨울입니다.')"
   ]
  },
  {
   "cell_type": "code",
   "execution_count": 24,
   "metadata": {},
   "outputs": [
    {
     "name": "stdout",
     "output_type": "stream",
     "text": [
      "7은/는 홀수입니다.\n"
     ]
    }
   ],
   "source": [
    "# 홀수/짝수 구분\n",
    "import random\n",
    "num = random.randint(1,10)\n",
    "if num % 2 == 1:\n",
    "    print(f'{num}은/는 홀수입니다.')\n",
    "if num % 2 == 0:\n",
    "    print(f'{num}은/는 짝수입니다.')\n"
   ]
  },
  {
   "attachments": {},
   "cell_type": "markdown",
   "metadata": {},
   "source": [
    "- pass (일단 넘어가기)"
   ]
  },
  {
   "cell_type": "code",
   "execution_count": null,
   "metadata": {},
   "outputs": [],
   "source": [
    "# 코드를 나중에 완성하기 위해 에러코드를 넘긴다.\n",
    "if True:\n",
    "    pass"
   ]
  },
  {
   "attachments": {},
   "cell_type": "markdown",
   "metadata": {},
   "source": [
    "- 들여쓰기(indentation)"
   ]
  },
  {
   "cell_type": "code",
   "execution_count": 26,
   "metadata": {},
   "outputs": [
    {
     "name": "stdout",
     "output_type": "stream",
     "text": [
      "4은/는 짝수입니다.\n",
      "이 부분은 조건이 참일 때에만 실행됩니다.\n",
      "들여쓰기가 끝나면 조건과 관계없이 조건과 관계없이 실행됩니다.\n"
     ]
    }
   ],
   "source": [
    "# 조건이 True 일 때\n",
    "num = 4\n",
    "if num % 2 == 0:\n",
    "    print(f'{num}은/는 짝수입니다.')\n",
    "    print('이 부분은 조건이 참일 때에만 실행됩니다.')\n",
    "print('들여쓰기가 끝나면 조건과 관계없이 조건과 관계없이 실행됩니다.')"
   ]
  },
  {
   "cell_type": "code",
   "execution_count": 27,
   "metadata": {},
   "outputs": [
    {
     "name": "stdout",
     "output_type": "stream",
     "text": [
      "들여쓰기가 끝나면 조건과 관계없이 조건과 관계없이 실행됩니다.\n"
     ]
    }
   ],
   "source": [
    "# 조건이 False 일 때\n",
    "num = 3\n",
    "if num % 2 == 0:\n",
    "    print(f'{num}은/는 짝수입니다.')\n",
    "    print('이 부분은 조건이 참일 때에만 실행됩니다.')\n",
    "print('들여쓰기가 끝나면 조건과 관계없이 조건과 관계없이 실행됩니다.')"
   ]
  },
  {
   "attachments": {},
   "cell_type": "markdown",
   "metadata": {},
   "source": [
    "- 중첩조건문(nasted)"
   ]
  },
  {
   "cell_type": "code",
   "execution_count": 1,
   "metadata": {},
   "outputs": [
    {
     "name": "stdout",
     "output_type": "stream",
     "text": [
      "홀수입니다.\n",
      "10보다 큰 수입니다.\n",
      "들여쓰기를 주의하세요.\n"
     ]
    }
   ],
   "source": [
    "num = 15\n",
    "if num % 2 == 1:\n",
    "    print('홀수입니다.')\n",
    "    if num > 10:\n",
    "        print('10보다 큰 수입니다.')\n",
    "print('들여쓰기를 주의하세요.')"
   ]
  },
  {
   "cell_type": "code",
   "execution_count": 2,
   "metadata": {},
   "outputs": [
    {
     "name": "stdout",
     "output_type": "stream",
     "text": [
      "7000\n"
     ]
    }
   ],
   "source": [
    "a = int(input())\n",
    "b = input()\n",
    "if b == 'Cash3000':\n",
    "    print(a - 3000)\n",
    "    if b == 'Cash5000':\n",
    "        print(a-5000)"
   ]
  },
  {
   "cell_type": "code",
   "execution_count": null,
   "metadata": {},
   "outputs": [],
   "source": []
  }
 ],
 "metadata": {
  "kernelspec": {
   "display_name": "base",
   "language": "python",
   "name": "python3"
  },
  "language_info": {
   "codemirror_mode": {
    "name": "ipython",
    "version": 3
   },
   "file_extension": ".py",
   "mimetype": "text/x-python",
   "name": "python",
   "nbconvert_exporter": "python",
   "pygments_lexer": "ipython3",
   "version": "3.10.9"
  },
  "orig_nbformat": 4
 },
 "nbformat": 4,
 "nbformat_minor": 2
}
