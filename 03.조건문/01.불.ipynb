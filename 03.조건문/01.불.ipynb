{
 "cells": [
  {
   "attachments": {},
   "cell_type": "markdown",
   "metadata": {},
   "source": [
    "##### 3-1 불 자료형"
   ]
  },
  {
   "attachments": {},
   "cell_type": "markdown",
   "metadata": {},
   "source": [
    "- 비교 연산자"
   ]
  },
  {
   "cell_type": "code",
   "execution_count": 1,
   "metadata": {},
   "outputs": [
    {
     "data": {
      "text/plain": [
       "(True, False, False)"
      ]
     },
     "execution_count": 1,
     "metadata": {},
     "output_type": "execute_result"
    }
   ],
   "source": [
    "5>3, 4>6, 5==10"
   ]
  },
  {
   "cell_type": "code",
   "execution_count": 4,
   "metadata": {},
   "outputs": [
    {
     "data": {
      "text/plain": [
       "(True, True)"
      ]
     },
     "execution_count": 4,
     "metadata": {},
     "output_type": "execute_result"
    }
   ],
   "source": [
    "# 산술연산자가 비교연산자 보다 먼저 계산\n",
    "# 산술 -> 비교 -> 논리연산자 순\n",
    "5 + 3 > 6, 2-7<5"
   ]
  },
  {
   "cell_type": "code",
   "execution_count": 5,
   "metadata": {},
   "outputs": [
    {
     "data": {
      "text/plain": [
       "(True, False)"
      ]
     },
     "execution_count": 5,
     "metadata": {},
     "output_type": "execute_result"
    }
   ],
   "source": [
    "# 자료형이 다르면 False\n",
    "10 == 10, 10 == '10'"
   ]
  },
  {
   "cell_type": "code",
   "execution_count": 9,
   "metadata": {},
   "outputs": [
    {
     "data": {
      "text/plain": [
       "(True, True, True)"
      ]
     },
     "execution_count": 9,
     "metadata": {},
     "output_type": "execute_result"
    }
   ],
   "source": [
    "# 문자열에도 비교 가능 (사전순)\n",
    "'A' < 'a', 'a' < 'z', '가' < '힣'"
   ]
  },
  {
   "cell_type": "code",
   "execution_count": 1,
   "metadata": {},
   "outputs": [
    {
     "name": "stderr",
     "output_type": "stream",
     "text": [
      "<>:3: SyntaxWarning: \"is\" with a literal. Did you mean \"==\"?\n",
      "<>:3: SyntaxWarning: \"is\" with a literal. Did you mean \"==\"?\n"
     ]
    },
    {
     "ename": "AttributeError",
     "evalue": "module 'warnings' has no attribute 'fillterwarnings'",
     "output_type": "error",
     "traceback": [
      "\u001b[1;31m---------------------------------------------------------------------------\u001b[0m",
      "\u001b[1;31mAttributeError\u001b[0m                            Traceback (most recent call last)",
      "Cell \u001b[1;32mIn[1], line 2\u001b[0m\n\u001b[0;32m      1\u001b[0m \u001b[39mimport\u001b[39;00m \u001b[39mwarnings\u001b[39;00m\n\u001b[1;32m----> 2\u001b[0m warnings\u001b[39m.\u001b[39;49mfillterwarnings(\u001b[39m'\u001b[39m\u001b[39mignore\u001b[39m\u001b[39m'\u001b[39m)\n\u001b[0;32m      3\u001b[0m \u001b[39m10\u001b[39m \u001b[39mis\u001b[39;00m \u001b[39m10.0\u001b[39m\n",
      "\u001b[1;31mAttributeError\u001b[0m: module 'warnings' has no attribute 'fillterwarnings'"
     ]
    }
   ],
   "source": [
    "import warnings\n",
    "warnings.fillterwarnings('ignore')\n",
    "10 is 10.0"
   ]
  },
  {
   "cell_type": "code",
   "execution_count": 11,
   "metadata": {},
   "outputs": [
    {
     "data": {
      "text/plain": [
       "(False, False, False, True)"
      ]
     },
     "execution_count": 11,
     "metadata": {},
     "output_type": "execute_result"
    }
   ],
   "source": [
    "# 논리 곱(and)\n",
    "t, f = True, False\n",
    "f and f, f and t, t and f, t and t"
   ]
  },
  {
   "cell_type": "code",
   "execution_count": 12,
   "metadata": {},
   "outputs": [
    {
     "data": {
      "text/plain": [
       "(False, True, True, True)"
      ]
     },
     "execution_count": 12,
     "metadata": {},
     "output_type": "execute_result"
    }
   ],
   "source": [
    "# 논리 합(or)\n",
    "f or f, f or t, t or f, t or t"
   ]
  },
  {
   "cell_type": "code",
   "execution_count": 13,
   "metadata": {},
   "outputs": [
    {
     "data": {
      "text/plain": [
       "(True, False)"
      ]
     },
     "execution_count": 13,
     "metadata": {},
     "output_type": "execute_result"
    }
   ],
   "source": [
    "# 논리 부정(not)\n",
    "not f, not t"
   ]
  },
  {
   "attachments": {},
   "cell_type": "markdown",
   "metadata": {},
   "source": [
    "- 논리연산자와 비교연산자의 혼용"
   ]
  },
  {
   "cell_type": "code",
   "execution_count": 20,
   "metadata": {},
   "outputs": [
    {
     "name": "stdout",
     "output_type": "stream",
     "text": [
      "0.3681171719065123\n",
      "5\n",
      "4\n"
     ]
    }
   ],
   "source": [
    "import random\n",
    "print(random.random()) # random : 0 <= x < 1 값을 랜덤하게 출력 (실수)\n",
    "print(random.randint(1,6)) # randint(a,b) : a <= x <= b (정수)\n",
    "print(random.randrange(1, 10)) # randrange(a,b) : a <= x < b (정수)"
   ]
  },
  {
   "cell_type": "code",
   "execution_count": 21,
   "metadata": {},
   "outputs": [
    {
     "name": "stdout",
     "output_type": "stream",
     "text": [
      "4 True\n"
     ]
    }
   ],
   "source": [
    "# 주사위의 눈이 2 이하 또는 5 이상\n",
    "dice = random.randint(1, 6)\n",
    "print(dice, dice <=2 or dice >=5) # 다이스를 출력하라, 다이스가 2이하 또는 5이상이냐"
   ]
  },
  {
   "cell_type": "code",
   "execution_count": 25,
   "metadata": {},
   "outputs": [
    {
     "name": "stdout",
     "output_type": "stream",
     "text": [
      "5 True\n",
      "5 True\n"
     ]
    }
   ],
   "source": [
    "# 주사위의 눈이 2 이상 5 이하\n",
    "dice = random.randint(1, 6)\n",
    "print(dice, dice >=2 and dice <=5)\n",
    "# 파이썬에서는 다음과 같이 쓸 수 있다.\n",
    "print(dice, 2<=dice<=5)"
   ]
  },
  {
   "cell_type": "code",
   "execution_count": 27,
   "metadata": {},
   "outputs": [
    {
     "name": "stdout",
     "output_type": "stream",
     "text": [
      "5 5 6 True False\n",
      "5 5 6 False\n"
     ]
    }
   ],
   "source": [
    "# 주사위를 세번 던져서 모두 같은 수가 나오면\n",
    "dice1 = random.randint(1, 6)\n",
    "dice2 = random.randint(1, 6)\n",
    "dice3 = random.randint(1, 6)\n",
    "print(dice1, dice2, dice3, dice1==dice2, dice1==dice3)\n",
    "# 간단한 버전\n",
    "print(dice1, dice2, dice3, dice1==dice2==dice3)"
   ]
  },
  {
   "attachments": {},
   "cell_type": "markdown",
   "metadata": {},
   "source": [
    "- 번외(별 의미 없음) \n",
    "- Exclusive or (XOR) \n",
    "    - f xor f, t xor t -> False\n",
    "    - t xor f, f xor t -> True"
   ]
  },
  {
   "cell_type": "code",
   "execution_count": 28,
   "metadata": {},
   "outputs": [
    {
     "data": {
      "text/plain": [
       "True"
      ]
     },
     "execution_count": 28,
     "metadata": {},
     "output_type": "execute_result"
    }
   ],
   "source": [
    "import operator\n",
    "operator.xor(False,True)"
   ]
  },
  {
   "cell_type": "code",
   "execution_count": 29,
   "metadata": {},
   "outputs": [
    {
     "data": {
      "text/plain": [
       "False"
      ]
     },
     "execution_count": 29,
     "metadata": {},
     "output_type": "execute_result"
    }
   ],
   "source": [
    "a, b = True, True\n",
    "(a and not b) or (not a and b)"
   ]
  },
  {
   "attachments": {},
   "cell_type": "markdown",
   "metadata": {},
   "source": [
    "- Bitwise logical operator\n",
    "    - & and\n",
    "    - | or\n",
    "    - ~ not\n",
    "    - ^ xor"
   ]
  },
  {
   "cell_type": "code",
   "execution_count": 31,
   "metadata": {},
   "outputs": [
    {
     "name": "stdout",
     "output_type": "stream",
     "text": [
      "0 1 1\n"
     ]
    }
   ],
   "source": [
    "a,b = 0,1\n",
    "print(a & b, a|b, a^b)"
   ]
  },
  {
   "cell_type": "code",
   "execution_count": 6,
   "metadata": {},
   "outputs": [
    {
     "name": "stdout",
     "output_type": "stream",
     "text": [
      "True\n"
     ]
    }
   ],
   "source": [
    "korean, english, math, science = map(int, input().split())\n",
    "result = korean >= 90 and english > 80 and math > 85 and science >= 80\n",
    "print(result)"
   ]
  },
  {
   "cell_type": "code",
   "execution_count": 10,
   "metadata": {},
   "outputs": [
    {
     "name": "stdout",
     "output_type": "stream",
     "text": [
      "['1010101010']\n"
     ]
    }
   ],
   "source": [
    "a = input().split()\n",
    "b = input().split()\n",
    "print(a[1::2] + b[0::2])"
   ]
  },
  {
   "cell_type": "code",
   "execution_count": null,
   "metadata": {},
   "outputs": [],
   "source": []
  }
 ],
 "metadata": {
  "kernelspec": {
   "display_name": "base",
   "language": "python",
   "name": "python3"
  },
  "language_info": {
   "codemirror_mode": {
    "name": "ipython",
    "version": 3
   },
   "file_extension": ".py",
   "mimetype": "text/x-python",
   "name": "python",
   "nbconvert_exporter": "python",
   "pygments_lexer": "ipython3",
   "version": "3.10.9"
  },
  "orig_nbformat": 4
 },
 "nbformat": 4,
 "nbformat_minor": 2
}
